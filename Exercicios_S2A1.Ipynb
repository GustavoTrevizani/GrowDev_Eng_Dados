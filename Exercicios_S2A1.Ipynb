{
 "cells": [
  {
   "attachments": {},
   "cell_type": "markdown",
   "metadata": {},
   "source": [
    "1 - Conversão de graus Celsius para Fahrenheit – Crie um programa que converta graus\n",
    "Celsius em Fahrenheit. A fórmula é a seguinte:\n",
    "\n",
    "F = 9/5 C + 32\n",
    "\n",
    "O programa deve solicitar ao usuário que insira uma temperatura em graus Celsius e, em\n",
    "seguida, exiba a temperatura convertida em Fahrenheit. Após construir esse programa,\n",
    "modifique-o para que converta graus Fahrenheit em graus Celsius."
   ]
  },
  {
   "cell_type": "code",
   "execution_count": 2,
   "metadata": {},
   "outputs": [
    {
     "name": "stdout",
     "output_type": "stream",
     "text": [
      "A temperatura em Fahrenheit é: 86.00°F\n"
     ]
    }
   ],
   "source": [
    "# Conversão de graus Celsius para Fahrenheit\n",
    "celsius = float(input('Digite a temperatura em graus Celsius: '))\n",
    "fahrenheit = (celsius * 9/5) + 32\n",
    "print(f'A temperatura em Fahrenheit é: {fahrenheit:.2f}°F')"
   ]
  },
  {
   "cell_type": "code",
   "execution_count": 3,
   "metadata": {},
   "outputs": [
    {
     "name": "stdout",
     "output_type": "stream",
     "text": [
      "A temperatura em Celsius é: 30.00°C\n"
     ]
    }
   ],
   "source": [
    "# Conversão de graus Fahrenheit para Celsius\n",
    "fahrenheit = float(input('Digite a temperatura em graus Fahrenheit: '))\n",
    "celsius = (fahrenheit - 32) * 5/9\n",
    "print(f'A temperatura em Celsius é: {celsius:.2f}°C')"
   ]
  },
  {
   "attachments": {},
   "cell_type": "markdown",
   "metadata": {},
   "source": [
    "2- Escreva um programa que receba um número e escreva “Par” caso esse número seja par e escreva “Ímpar” caso esse número seja impar."
   ]
  },
  {
   "cell_type": "code",
   "execution_count": 8,
   "metadata": {},
   "outputs": [
    {
     "name": "stdout",
     "output_type": "stream",
     "text": [
      "Ímpar\n"
     ]
    }
   ],
   "source": [
    "numero = int(input('Digite um número: '))\n",
    "if numero % 2 == 0:\n",
    "    print ('Par')\n",
    "else:\n",
    "    print ('Ímpar')"
   ]
  },
  {
   "attachments": {},
   "cell_type": "markdown",
   "metadata": {},
   "source": [
    "3 - Escreva um programa que receba dois números, exiba as opções:\n",
    "   - 1 - adição\n",
    "   - 2 - subtração\n",
    "   \n",
    "   Então peça ao usuário para escolher uma das opções. Caso escolha a opção 1 o programa\n",
    "deve realizar a soma dos dois números lidos e exibir. Caso escolha a opção 2 o programa\n",
    "deve realizar a subtração dos dois números lidos e exibir."
   ]
  },
  {
   "cell_type": "code",
   "execution_count": 13,
   "metadata": {},
   "outputs": [
    {
     "name": "stdout",
     "output_type": "stream",
     "text": [
      "Escolha a operação desejada:\n",
      "1 - Adição\n",
      "2 - Subtração\n",
      "O resultado da adição é: 10.0\n"
     ]
    }
   ],
   "source": [
    "num1 = float(input('Digite o primeiro número: '))\n",
    "num2 = float(input('Digite o segundo número: '))\n",
    "\n",
    "print('Escolha a operação desejada:')\n",
    "print('1 - Adição')\n",
    "print('2 - Subtração')\n",
    "opcao = int(input('Digite o número da operação desejada: '))\n",
    "\n",
    "if opcao == 1:\n",
    "    resultado = num1 + num2\n",
    "    print(f'O resultado da adição é: {resultado}')\n",
    "elif opcao == 2:\n",
    "    resultado = num1 - num2\n",
    "    print(f'O resultado da subtração é: {resultado}')\n",
    "else:\n",
    "    print('Opção inválida')\n"
   ]
  },
  {
   "attachments": {},
   "cell_type": "markdown",
   "metadata": {},
   "source": [
    "4 - Numa determinada escola, os critérios de aprovação são os seguintes:\n",
    "- O aluno deve ter, no máximo, 25% de faltas;\n",
    "- A nota final deve ser igual ou superior a 7,00.\n",
    "\n",
    "Construa um programa para ler as notas que um aluno tirou nos 4 bimestres, o número total\n",
    "de aulas e o número de faltas, mostrando ao final a situação do aluno como sendo\n",
    "“Aprovado”, “Reprovado por Faltas” e “Reprovado por média”, considerando que a\n",
    "reprovação por faltas se sobrepõe a reprovação por nota."
   ]
  },
  {
   "cell_type": "code",
   "execution_count": 16,
   "metadata": {},
   "outputs": [
    {
     "name": "stdout",
     "output_type": "stream",
     "text": [
      "Aprovado\n"
     ]
    }
   ],
   "source": [
    "nota1 = float(input('Digite a nota do 1º bimestre: '))\n",
    "nota2 = float(input('Digite a nota do 2º bimestre: '))\n",
    "nota3 = float(input('Digite a nota do 3º bimestre: '))\n",
    "nota4 = float(input('Digite a nota do 4º bimestre: '))\n",
    "\n",
    "total_aulas = int(input('Total de aulas: '))\n",
    "faltas = int(input('Total de Faltas: '))\n",
    "\n",
    "media = (nota1 + nota2 + nota3 + nota4) / 4\n",
    "percentual_faltas = (faltas / total_aulas) * 100\n",
    "\n",
    "if percentual_faltas > 25:\n",
    "  print('Reprovado por Faltas')\n",
    "elif media < 7:\n",
    "  print('Reprovado por Média')\n",
    "else:\n",
    "  print('Aprovado')\n",
    "     "
   ]
  },
  {
   "attachments": {},
   "cell_type": "markdown",
   "metadata": {},
   "source": [
    "5 - Após construir o programa anterior, crie mais duas versões dele para prever as seguintes\n",
    "situações:\n",
    "- Um aluno pode ficar em recuperação se possuir frequência suficiente (superior a\n",
    "75%) e média superior a 5 mas inferior a 7;\n",
    "- Caso um aluno reprove por média e faltas, sua situação deve ser “Reprovado por\n",
    "Média e Faltas” (ao invés de simplesmente “Reprovado por Faltas” como antes)."
   ]
  },
  {
   "cell_type": "code",
   "execution_count": 50,
   "metadata": {},
   "outputs": [
    {
     "name": "stdout",
     "output_type": "stream",
     "text": [
      "Reprovado por Faltas\n"
     ]
    }
   ],
   "source": [
    "nota1 = float(input('Digite a nota do 1º bimestre: '))\n",
    "nota2 = float(input('Digite a nota do 2º bimestre: '))\n",
    "nota3 = float(input('Digite a nota do 3º bimestre: '))\n",
    "nota4 = float(input('Digite a nota do 4º bimestre: '))\n",
    "\n",
    "total_aulas = int(input('Total de aulas: '))\n",
    "faltas = int(input('Total de Faltas: '))\n",
    "\n",
    "media = (nota1 + nota2 + nota3 + nota4) / 4\n",
    "percentual_faltas = (faltas / total_aulas) * 100\n",
    "\n",
    "if percentual_faltas > 25 and media < 5:\n",
    "  print('Reprovado por Média e Faltas')\n",
    "elif percentual_faltas > 25:\n",
    "  print('Reprovado por Faltas')\n",
    "elif media < 5:\n",
    "  print('Reprovado por Média')\n",
    "elif media >= 5 and media < 7:\n",
    "  print('Recuperação')\n",
    "else:\n",
    "  print('Aprovado')"
   ]
  },
  {
   "attachments": {},
   "cell_type": "markdown",
   "metadata": {},
   "source": [
    "6 - Escreva um programa que peça ao usuário para fornecer um dia, mês e o ano arbitrários\n",
    "e determine se esses dados correspondem a uma data válida. Não deixe de considerar que\n",
    "existem meses com 30 e 31 dias, e que fevereiro pode ter 28 ou 29 dias, dependendo se o\n",
    "ano for bissexto. Considere que um ano é bissexto quando for divisível por 4."
   ]
  },
  {
   "cell_type": "code",
   "execution_count": 59,
   "metadata": {},
   "outputs": [
    {
     "name": "stdout",
     "output_type": "stream",
     "text": [
      "29/02/2020 é uma data válida\n"
     ]
    }
   ],
   "source": [
    "data = input('Data (00/00/0000): ')\n",
    "dia, mes, ano = map(int, data.split('/'))\n",
    "\n",
    "if mes < 1 or mes > 12:\n",
    "  print('Data Inválida')\n",
    "\n",
    "if mes in (1, 3, 5, 7, 8, 10, 12):\n",
    "  ultimo_dia = 31\n",
    "elif mes == 2:\n",
    "  if ano % 4 == 0:\n",
    "    ultimo_dia = 29\n",
    "  else:\n",
    "    ultimo_dia = 28\n",
    "else:\n",
    "  ultimo_dia = 30\n",
    "\n",
    "if dia < 1 or dia > ultimo_dia:\n",
    "  print(f'{data} é uma data inválida')\n",
    "else:\n",
    "  print(f'{data} é uma data válida')\n"
   ]
  },
  {
   "attachments": {},
   "cell_type": "markdown",
   "metadata": {},
   "source": [
    "7- Construa um programa que leia uma data qualquer (dia, mês e ano) e calcule a data do\n",
    "próximo dia. Lembre-se que em anos bissextos o mês de fevereiro tem 29 dias. Lembre-se\n",
    "que um ano é bissexto quando for divisível por 4."
   ]
  },
  {
   "cell_type": "code",
   "execution_count": 61,
   "metadata": {},
   "outputs": [
    {
     "name": "stdout",
     "output_type": "stream",
     "text": [
      "PRÓXIMA DATA: 1/1/2024\n"
     ]
    }
   ],
   "source": [
    "data = input('Data (00/00/0000): ')\n",
    "dia, mes, ano = map(int, data.split('/'))\n",
    "\n",
    "proximo_dia = dia + 1\n",
    "\n",
    "if mes < 1 or mes > 12:\n",
    "  print('Data Inválida')\n",
    "\n",
    "if mes in (1, 3, 5, 7, 8, 10, 12):\n",
    "  ultimo_dia = 31\n",
    "elif mes == 2:\n",
    "  if ano % 4 == 0:\n",
    "    ultimo_dia = 29\n",
    "  else:\n",
    "    ultimo_dia = 28\n",
    "else:\n",
    "  ultimo_dia = 30\n",
    "\n",
    "if proximo_dia > ultimo_dia:\n",
    "  proximo_dia = 1\n",
    "  mes = mes + 1\n",
    "\n",
    "if mes > 12:\n",
    "  mes = 1\n",
    "  ano = ano + 1\n",
    "\n",
    "print(f'PRÓXIMA DATA: {proximo_dia}/{mes}/{ano}')"
   ]
  },
  {
   "attachments": {},
   "cell_type": "markdown",
   "metadata": {},
   "source": [
    "8 - Faça um programa que leia as duas notas parciais obtidas por um aluno numa\n",
    "disciplina ao longo de um semestre, e calcule a sua média. A atribuição de conceitos\n",
    "obedece à tabela abaixo:\n",
    "Média de Aproveitamento\n",
    "- Entre 9.0 e 10.0 Conceito - A\n",
    "- Entre 7.5 e 8.9 - B\n",
    "- Entre 6.0 e 7.4 - C\n",
    "- Entre 4.0 e 5.9 - D\n",
    "- Entre 0 e 3.9 - E\n",
    "\n",
    "O programa deve mostrar na tela as notas, a média, o conceito correspondente e a\n",
    "mensagem:\n",
    "APROVADO se o conceito for A, B ou C.\n",
    "REPROVADO se o conceito for D ou E."
   ]
  },
  {
   "cell_type": "code",
   "execution_count": 66,
   "metadata": {},
   "outputs": [
    {
     "name": "stdout",
     "output_type": "stream",
     "text": [
      "Nota da primeira avaliação: 1.0\n",
      "Nota da segunda avaliação: 2.0\n",
      "Média: 1.50\n",
      "Conceito: E\n",
      "REPROVADO\n"
     ]
    }
   ],
   "source": [
    "nota1 = float(input('Digite a nota da primeira avaliação: '))\n",
    "nota2 = float(input('Digite a nota da segunda avaliação: '))\n",
    "\n",
    "media = (nota1 + nota2) / 2\n",
    "\n",
    "if 9 <= media <= 10:\n",
    "    conceito = 'A'\n",
    "elif 7.5 <= media < 9:\n",
    "    conceito = 'B'\n",
    "elif 6 <= media < 7.5:\n",
    "    conceito = 'C'\n",
    "elif 4 <= media < 6:\n",
    "    conceito = 'D'\n",
    "else:\n",
    "    conceito = 'E'\n",
    "\n",
    "print(f'Nota da primeira avaliação: {nota1}')\n",
    "print(f'Nota da segunda avaliação: {nota2}')\n",
    "print(f'Média: {media:.2f}')\n",
    "print(f'Conceito: {conceito}')\n",
    "\n",
    "if conceito in ['A', 'B', 'C']:\n",
    "    print('APROVADO')\n",
    "else:\n",
    "    print('REPROVADO')\n"
   ]
  },
  {
   "attachments": {},
   "cell_type": "markdown",
   "metadata": {},
   "source": [
    "9 - As Organizações XTC resolveram dar um aumento de salário aos seus colaboradores e\n",
    "lhe contrataram para desenvolver o programa que calcula os reajustes. Faça um programa\n",
    "que recebe o salário de um colaborador e o reajuste segundo o seguinte critério, baseado\n",
    "no salário atual:\n",
    "- salários até R$ 280,00 (incluindo): aumento de 20%\n",
    "- salários entre R$ 280,00 e R$ 700,00: aumento de 15%\n",
    "- salários entre R$ 700,00 e R$ 1500,00: aumento de 10%\n",
    "- salários de R$ 1500,00 em diante: aumento de 5%\n",
    "\n",
    "Após o aumento ser realizado informe na tela:\n",
    "- o salário antes do reajuste;\n",
    "- o percentual de aumento aplicado;\n",
    "- o valor do aumento;\n",
    "- o novo salário, após o aumento."
   ]
  },
  {
   "cell_type": "code",
   "execution_count": 72,
   "metadata": {},
   "outputs": [
    {
     "name": "stdout",
     "output_type": "stream",
     "text": [
      "Salário antes do reajuste: R$ 2000.00\n",
      "Percentual de aumento aplicado: 5%\n",
      "Valor do aumento: R$ 100.00\n",
      "Novo salário, após o aumento: R$ 2100.00\n"
     ]
    }
   ],
   "source": [
    "salario_atual = float(input(\"Digite o salário atual do colaborador: \"))\n",
    "\n",
    "if salario_atual <= 280:\n",
    "    percentual_aumento = 20\n",
    "elif salario_atual <= 700:\n",
    "    percentual_aumento = 15\n",
    "elif salario_atual <= 1500:\n",
    "    percentual_aumento = 10\n",
    "else:\n",
    "    percentual_aumento = 5\n",
    "\n",
    "aumento = (salario_atual * percentual_aumento) / 100\n",
    "novo_salario = salario_atual + aumento\n",
    "\n",
    "print(f\"Salário antes do reajuste: R$ {salario_atual:.2f}\")\n",
    "print(f\"Percentual de aumento aplicado: {percentual_aumento}%\")\n",
    "print(f\"Valor do aumento: R$ {aumento:.2f}\")\n",
    "print(f\"Novo salário, após o aumento: R$ {novo_salario:.2f}\")"
   ]
  }
 ],
 "metadata": {
  "kernelspec": {
   "display_name": "Python 3",
   "language": "python",
   "name": "python3"
  },
  "language_info": {
   "codemirror_mode": {
    "name": "ipython",
    "version": 3
   },
   "file_extension": ".py",
   "mimetype": "text/x-python",
   "name": "python",
   "nbconvert_exporter": "python",
   "pygments_lexer": "ipython3",
   "version": "3.11.2"
  },
  "orig_nbformat": 4
 },
 "nbformat": 4,
 "nbformat_minor": 2
}
