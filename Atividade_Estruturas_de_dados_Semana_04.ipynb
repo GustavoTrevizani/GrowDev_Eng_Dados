{
  "nbformat": 4,
  "nbformat_minor": 0,
  "metadata": {
    "colab": {
      "provenance": []
    },
    "kernelspec": {
      "name": "python3",
      "display_name": "Python 3"
    },
    "language_info": {
      "name": "python"
    }
  },
  "cells": [
    {
      "cell_type": "markdown",
      "source": [
        "![Growdev](https://www.growdev.com.br/assets/images/logo_growdev.png)"
      ],
      "metadata": {
        "id": "v8pFWwviib2C"
      }
    },
    {
      "cell_type": "markdown",
      "source": [
        "![Formação Engenharia de Dados](https://d335luupugsy2.cloudfront.net/cms/files/524558/1707226566/$occu5m8t1op)"
      ],
      "metadata": {
        "id": "6Tkl4_HxifXZ"
      }
    },
    {
      "cell_type": "markdown",
      "source": [
        "Este material tem como objetivo incentivar a prática dos conteúdos estudados até o momento, e a pesquisa. Tenha em consideração que o exercício foi pensado para incentivar a prática dos conteúdos estudados até então, porém aprender a pesquisar faz parte do processo de aprendizagem.\n",
        "\n",
        "Fique tranquilo, faça os exercícios com calma, e boa prática!\n"
      ],
      "metadata": {
        "id": "ty7Bzyl1i9bN"
      }
    },
    {
      "cell_type": "markdown",
      "source": [
        "#Orientações:\n",
        "\n",
        " - Faça uma copia deste arquivo\n",
        " - Após concluir os exercicios, suba seu exercicio para o GitHub e compartilhe o link no **google** Classroom\n"
      ],
      "metadata": {
        "id": "DU5-yCQwjx3V"
      }
    },
    {
      "cell_type": "markdown",
      "source": [
        "#Exercícios"
      ],
      "metadata": {
        "id": "EzT810tnlmfE"
      }
    },
    {
      "cell_type": "markdown",
      "source": [
        "#Listas"
      ],
      "metadata": {
        "id": "rDqBAimhSq_C"
      }
    },
    {
      "cell_type": "markdown",
      "source": [
        "Para esse exercicio você tera alguns desafios, separei eles em partes, vamos lá?\n",
        "\n",
        "1 - Crie uma lista com 100 números inteiros.\n",
        "- Pode ser uma sequência, ou caso queira se desafiar faça de números aleatorios.\n",
        "- Os dados não devem ser inseridos manualmente, utilize de um laço de repetição para adicionar os elementos a Lista.\n"
      ],
      "metadata": {
        "id": "GoGkz2n-SudC"
      }
    },
    {
      "cell_type": "code",
      "source": [
        "import random\n",
        "\n",
        "lista = []\n",
        "\n",
        "for _ in range (100):\n",
        "  lista.append(random.randint(1, 1000))\n",
        "\n",
        "print(lista)"
      ],
      "metadata": {
        "colab": {
          "base_uri": "https://localhost:8080/"
        },
        "id": "-5Vsgp3Q5FFh",
        "outputId": "0c3dbe2b-68c3-449d-c01d-c2c08acb99c9"
      },
      "execution_count": null,
      "outputs": [
        {
          "output_type": "stream",
          "name": "stdout",
          "text": [
            "[561, 650, 79, 544, 158, 768, 501, 755, 680, 572, 138, 237, 59, 881, 777, 597, 655, 774, 897, 213, 306, 166, 805, 262, 956, 591, 846, 435, 669, 910, 429, 182, 478, 285, 296, 975, 536, 126, 284, 359, 375, 19, 428, 475, 727, 73, 694, 638, 69, 329, 555, 751, 297, 139, 47, 884, 837, 465, 870, 960, 49, 903, 251, 401, 984, 187, 399, 459, 775, 382, 366, 846, 104, 159, 383, 315, 449, 697, 8, 8, 305, 569, 911, 498, 456, 757, 497, 704, 652, 949, 372, 54, 254, 141, 441, 660, 233, 941, 653, 612]\n"
          ]
        }
      ]
    },
    {
      "cell_type": "markdown",
      "source": [
        "2 - Calcule e exiba a soma de todos os números da lista."
      ],
      "metadata": {
        "id": "LQ0SVqxyVTD5"
      }
    },
    {
      "cell_type": "code",
      "source": [
        "soma = sum(lista)\n",
        "\n",
        "print(f'A soma de todas os números da lista é: {soma}')"
      ],
      "metadata": {
        "colab": {
          "base_uri": "https://localhost:8080/"
        },
        "id": "3yRRxdFn77RN",
        "outputId": "dd57c425-7816-484b-b9c8-3fec6183fbde"
      },
      "execution_count": null,
      "outputs": [
        {
          "output_type": "stream",
          "name": "stdout",
          "text": [
            "A soma de todas os números da lista é: 48808\n"
          ]
        }
      ]
    },
    {
      "cell_type": "markdown",
      "source": [
        "3 - Exiba o maior e o menor número da lista."
      ],
      "metadata": {
        "id": "HYQGLklTTPMx"
      }
    },
    {
      "cell_type": "code",
      "source": [
        "maior = max(lista)\n",
        "menor = min(lista)\n",
        "\n",
        "print(f'O maior número da lista é: {maior}')\n",
        "print(f'O menor número da lista é: {menor}')"
      ],
      "metadata": {
        "colab": {
          "base_uri": "https://localhost:8080/"
        },
        "id": "5L4dHmyJ883B",
        "outputId": "90da3aa2-8e64-4460-d5b8-8ff84a0238f6"
      },
      "execution_count": null,
      "outputs": [
        {
          "output_type": "stream",
          "name": "stdout",
          "text": [
            "O maior número da lista é: 984\n",
            "O menor número da lista é: 8\n"
          ]
        }
      ]
    },
    {
      "cell_type": "markdown",
      "source": [
        "4 - Pesquise se o número 77 esta presente na lista e exiba:\n",
        "- Quantas vezes esse número aparece na lista\n",
        "- Se aparece em qual ou quais posições(Indice)."
      ],
      "metadata": {
        "id": "1iU6ZtRhVN9i"
      }
    },
    {
      "cell_type": "code",
      "source": [
        "quantidade = lista.count(77)\n",
        "\n",
        "posicoes = [indice for indice, numero in enumerate(lista) if numero == 77]\n",
        "\n",
        "print(f\"O número 77 aparece {quantidade} vezes na lista.\")\n",
        "\n",
        "if quantidade > 0:\n",
        "    print(f\"O número 77 aparece nas posições: {posicoes}\")\n",
        "else:\n",
        "    print(\"O número 77 não aparece na lista.\")"
      ],
      "metadata": {
        "id": "kRV_3lIO9ZMJ",
        "colab": {
          "base_uri": "https://localhost:8080/"
        },
        "outputId": "572508c5-d273-4e66-9f2c-fa0b35f73cb7"
      },
      "execution_count": null,
      "outputs": [
        {
          "output_type": "stream",
          "name": "stdout",
          "text": [
            "O número 77 aparece 0 vezes na lista.\n",
            "O número 77 não aparece na lista.\n"
          ]
        }
      ]
    },
    {
      "cell_type": "markdown",
      "source": [
        "5 - Ordene a lista de forma descendente e exiba."
      ],
      "metadata": {
        "id": "jrwycUMvWVSu"
      }
    },
    {
      "cell_type": "code",
      "source": [
        "lista_ordenada = sorted(lista, reverse=True)\n",
        "\n",
        "print(f'Lista ordenada de forma descendente: {lista_ordenada}')"
      ],
      "metadata": {
        "colab": {
          "base_uri": "https://localhost:8080/"
        },
        "id": "0DFKX0llDmGx",
        "outputId": "1e2bdf21-1b32-4104-963c-c0e9d37ef065"
      },
      "execution_count": null,
      "outputs": [
        {
          "output_type": "stream",
          "name": "stdout",
          "text": [
            "Lista ordenada de forma descendente: [984, 975, 960, 956, 949, 941, 911, 910, 903, 897, 884, 881, 870, 846, 846, 837, 805, 777, 775, 774, 768, 757, 755, 751, 727, 704, 697, 694, 680, 669, 660, 655, 653, 652, 650, 638, 612, 597, 591, 572, 569, 561, 555, 544, 536, 501, 498, 497, 478, 475, 465, 459, 456, 449, 441, 435, 429, 428, 401, 399, 383, 382, 375, 372, 366, 359, 329, 315, 306, 305, 297, 296, 285, 284, 262, 254, 251, 237, 233, 213, 187, 182, 166, 159, 158, 141, 139, 138, 126, 104, 79, 73, 69, 59, 54, 49, 47, 19, 8, 8]\n"
          ]
        }
      ]
    },
    {
      "cell_type": "markdown",
      "source": [
        "## Tuplas:"
      ],
      "metadata": {
        "id": "Be68CsC2OftE"
      }
    },
    {
      "cell_type": "markdown",
      "source": [
        "Crie uma tupla com os dias da semana e peça para o usuário digitar um número de 1 a 7. Exiba o dia correspondente."
      ],
      "metadata": {
        "id": "SQzRrAmq1SnR"
      }
    },
    {
      "cell_type": "code",
      "source": [
        "dias_da_semana = ('Segunda', 'Terça', 'Quarta', 'Quinta', 'Sexta', 'Sábado', 'Domingo')\n",
        "\n",
        "numero = int(input('Digite um número de 1 a 7: '))\n",
        "\n",
        "if 1 <= numero <= 7:\n",
        "  dia = dias_da_semana[numero - 1]\n",
        "  print(f'O dia correspondente ao número {numero} é: {dia}')\n",
        "else:\n",
        "  print(f'Número inválido. Digite um número entre 1 e 7.')"
      ],
      "metadata": {
        "colab": {
          "base_uri": "https://localhost:8080/"
        },
        "id": "9MzTs59wHmEu",
        "outputId": "8af530fe-06f6-482e-9352-b71a5f896c7c"
      },
      "execution_count": null,
      "outputs": [
        {
          "output_type": "stream",
          "name": "stdout",
          "text": [
            "Digite um número de 1 a 7: 5\n",
            "O dia correspondente ao número 5 é: Sexta\n"
          ]
        }
      ]
    },
    {
      "cell_type": "markdown",
      "source": [
        "Crie duas tuplas com números inteiros e crie uma terceira tupla com a concatenação das duas."
      ],
      "metadata": {
        "id": "J9LW9fru7hv6"
      }
    },
    {
      "cell_type": "code",
      "source": [
        "tupla1 = (1, 2, 3, 4, 5)\n",
        "tupla2 = (6, 7, 8, 9, 10)\n",
        "\n",
        "tupla_concatenada = tupla1 + tupla2\n",
        "\n",
        "print(f'Tupla concatenada: {tupla_concatenada}')\n"
      ],
      "metadata": {
        "colab": {
          "base_uri": "https://localhost:8080/"
        },
        "id": "Z4NOUrHWLKdV",
        "outputId": "e3821b5c-0229-422a-bfa2-7ad889991f52"
      },
      "execution_count": null,
      "outputs": [
        {
          "output_type": "stream",
          "name": "stdout",
          "text": [
            "Tupla concatenada: (1, 2, 3, 4, 5, 6, 7, 8, 9, 10)\n"
          ]
        }
      ]
    },
    {
      "cell_type": "markdown",
      "source": [
        " Crie uma tupla com alguns elementos e remova um elemento específico."
      ],
      "metadata": {
        "id": "ytDz_SXB7o-8"
      }
    },
    {
      "cell_type": "code",
      "source": [
        "tupla = (1, 2, 3, 4, 5)\n",
        "\n",
        "lista = list(tupla)\n",
        "\n",
        "elemento = 4\n",
        "if elemento in lista:\n",
        "    lista.remove(elemento)\n",
        "else:\n",
        "    print('Elemento não encontrado na tupla.')\n",
        "\n",
        "tupla_atualizada = tuple(lista)\n",
        "\n",
        "print(f'Tupla atualizada: {tupla_atualizada}')"
      ],
      "metadata": {
        "colab": {
          "base_uri": "https://localhost:8080/"
        },
        "id": "E2BOua2tMKC-",
        "outputId": "4d0727a5-cfcf-4404-e6ec-de9bdc68d19a"
      },
      "execution_count": null,
      "outputs": [
        {
          "output_type": "stream",
          "name": "stdout",
          "text": [
            "Tupla atualizada: (1, 2, 3, 5)\n"
          ]
        }
      ]
    },
    {
      "cell_type": "markdown",
      "source": [
        "#Sets"
      ],
      "metadata": {
        "id": "v_JM0Has1pPL"
      }
    },
    {
      "cell_type": "markdown",
      "source": [
        "Crie dois sets com cores diferentes e exiba na tela a união dos dois sets."
      ],
      "metadata": {
        "id": "Urrv-Y291roJ"
      }
    },
    {
      "cell_type": "code",
      "source": [
        "set1 = {'vermelho', 'azul', 'verde'}\n",
        "set2 = {'amarelo', 'azul', 'preto'}\n",
        "\n",
        "uniao = set1.union(set2)\n",
        "\n",
        "print(f'União dos sets: {uniao}')"
      ],
      "metadata": {
        "colab": {
          "base_uri": "https://localhost:8080/"
        },
        "id": "i11FVpmeQdLp",
        "outputId": "494dc888-6c3f-4191-8870-50c327a5f3e0"
      },
      "execution_count": null,
      "outputs": [
        {
          "output_type": "stream",
          "name": "stdout",
          "text": [
            "União dos sets: {'verde', 'preto', 'amarelo', 'vermelho', 'azul'}\n"
          ]
        }
      ]
    },
    {
      "cell_type": "markdown",
      "source": [
        "Crie uma lista com alguns números repetidos. Converta essa lista em um set para remover as duplicatas e exiba o resultado."
      ],
      "metadata": {
        "id": "0q0tG4eG1zkL"
      }
    },
    {
      "cell_type": "code",
      "source": [
        "lista = [1, 2, 3, 4, 3, 4, 5, 6, 6, 7, 8, 9, 9]\n",
        "\n",
        "set_sem_duplicatas = set(lista)\n",
        "\n",
        "print(f'Lista original: {lista}')\n",
        "print(f'Set sem duplicatas: {set_sem_duplicatas}')"
      ],
      "metadata": {
        "colab": {
          "base_uri": "https://localhost:8080/"
        },
        "id": "-mRhw3_4QygW",
        "outputId": "5e46b393-fa8e-4c99-a284-69c1a90ae38c"
      },
      "execution_count": null,
      "outputs": [
        {
          "output_type": "stream",
          "name": "stdout",
          "text": [
            "Lista original: [1, 2, 3, 4, 3, 4, 5, 6, 6, 7, 8, 9, 9]\n",
            "Set sem duplicatas: {1, 2, 3, 4, 5, 6, 7, 8, 9}\n"
          ]
        }
      ]
    },
    {
      "cell_type": "markdown",
      "source": [
        "#Dicionários:"
      ],
      "metadata": {
        "id": "4MCBgr-k1fvU"
      }
    },
    {
      "cell_type": "markdown",
      "source": [
        " Crie um dicionário com os nomes de algumas frutas e suas respectivas cores. Exiba na tela somente as frutas que são vermelhas."
      ],
      "metadata": {
        "id": "0A-DeyIMPh4g"
      }
    },
    {
      "cell_type": "code",
      "source": [
        "frutas_cores = {\n",
        "    'maça': 'vermelha',\n",
        "    'banana': 'amarela',\n",
        "    'laranja': 'laranja',\n",
        "    'uva': 'roxa',\n",
        "    'morango': 'vermelha'\n",
        "}\n",
        "\n",
        "frutas_vermelhas = []\n",
        "\n",
        "for fruta, cor in frutas_cores.items():\n",
        "  if cor == 'vermelha':\n",
        "    frutas_vermelhas.append(fruta)\n",
        "\n",
        "print(f'Frutas vermelhas: {frutas_vermelhas}')"
      ],
      "metadata": {
        "colab": {
          "base_uri": "https://localhost:8080/"
        },
        "id": "epHuatP6RvH2",
        "outputId": "c113ea3c-44f8-4aa2-9ff6-fb85cb96f9c8"
      },
      "execution_count": null,
      "outputs": [
        {
          "output_type": "stream",
          "name": "stdout",
          "text": [
            "Frutas vermelhas: ['maça', 'morango']\n"
          ]
        }
      ]
    },
    {
      "cell_type": "markdown",
      "source": [
        "Crie um dicionário com o nome e a idade de três pessoas. Busque por  um nome e exiba a idade correspondente."
      ],
      "metadata": {
        "id": "q-XV14A-PmSa"
      }
    },
    {
      "cell_type": "code",
      "source": [
        "pessoas = {\n",
        "    'João': 18,\n",
        "    'Maria': 25,\n",
        "    'Alexandre': 29\n",
        "}\n",
        "\n",
        "nome = input('Digite o nome de uma pessoa para descobrir sua idade: ')\n",
        "\n",
        "if nome in pessoas:\n",
        "  idade = pessoas[nome]\n",
        "  print(f'{nome} tem {idade} anos')\n",
        "else:\n",
        "  print(f'Pessoa não encontrada no dicionário')"
      ],
      "metadata": {
        "colab": {
          "base_uri": "https://localhost:8080/"
        },
        "id": "5p5dJCDjS-_Y",
        "outputId": "25c63266-393a-4181-ec26-12fa273aba21"
      },
      "execution_count": null,
      "outputs": [
        {
          "output_type": "stream",
          "name": "stdout",
          "text": [
            "Digite o nome de uma pessoa para descobrir sua idade: Maria\n",
            "Maria tem 25 anos\n"
          ]
        }
      ]
    },
    {
      "cell_type": "markdown",
      "source": [
        "Crie um dicionário com os nomes e idades de algumas pessoas. Peça para o usuário digitar um nome e sua nova idade, e atualize o dicionário com essa informação."
      ],
      "metadata": {
        "id": "yEn6q_MP5SdW"
      }
    },
    {
      "cell_type": "code",
      "source": [
        "pessoas = {\n",
        "    'João': 30,\n",
        "    'Maria': 25,\n",
        "    'Pedro': 35\n",
        "}\n",
        "\n",
        "nome = input('Digite o nome da pessoa: ')\n",
        "nova_idade = int(input('Digite a nova idade: '))\n",
        "\n",
        "pessoas[nome] = nova_idade\n",
        "\n",
        "print(f'Dicionário atualizado: {pessoas}')"
      ],
      "metadata": {
        "colab": {
          "base_uri": "https://localhost:8080/"
        },
        "id": "YjuW11rrULh4",
        "outputId": "32e5cc08-1819-4752-acc0-b34a4dec1ca1"
      },
      "execution_count": null,
      "outputs": [
        {
          "output_type": "stream",
          "name": "stdout",
          "text": [
            "Digite o nome da pessoa: Maria\n",
            "Digite a nova idade: 26\n",
            "Dicionário atualizado: {'João': 30, 'Maria': 26, 'Pedro': 35}\n"
          ]
        }
      ]
    },
    {
      "cell_type": "markdown",
      "source": [
        "Desafio Dicionários:\n",
        "\n",
        "Busque o código desenvolvido para o exercicio abaixo e altere o algoritmo para:\n",
        "\n",
        " - Salvar o resultado da eleição em um dícionário.\n",
        "\n",
        "\n",
        "Exemplo de saida do dicionario: {\"Candidato 1\": 2, \"Candidato 2\": 2, \"Voto Nulo\": 0, \"Voto Branco\": 1}\n",
        "\n",
        "\n",
        "Este exercicio foi realizado na lista da semana passada, exercicio de número 4:"
      ],
      "metadata": {
        "id": "Jeelh1Xw2hab"
      }
    },
    {
      "cell_type": "markdown",
      "source": [
        "\n",
        "\"Em uma eleição presidencial existem dois candidatos. Os votos são informados através de códigos. Os dados utilizados para a contagem dos votos obedecem à seguinte codificação:\n",
        "\n",
        "1,2 = voto para os respectivos candidatos\n",
        "\n",
        "3 = voto nulo\n",
        "\n",
        "4 = voto em branco;\n",
        "\n",
        "Elabore um programa que leia o código de votação de 5 eleitores. Calcule e escreva: total de votos para cada candidato total de votos nulos total de votos em branco\""
      ],
      "metadata": {
        "id": "cDnoQXk83e5B"
      }
    },
    {
      "cell_type": "code",
      "source": [
        "resultados = {\n",
        "    'Candidato 1': 0,\n",
        "    'Candidato 2': 0,\n",
        "    'Voto Nulo': 0,\n",
        "    'Voto Branco': 0\n",
        "}\n",
        "\n",
        "for i in range(5):\n",
        "    voto = int(input('Informe o código do voto: '))\n",
        "\n",
        "    if voto == 1:\n",
        "        resultados[\"Candidato 1\"] += 1\n",
        "    elif voto == 2:\n",
        "        resultados[\"Candidato 2\"] += 1\n",
        "    elif voto == 3:\n",
        "        resultados[\"Voto Nulo\"] += 1\n",
        "    elif voto == 4:\n",
        "        resultados[\"Voto Branco\"] += 1\n",
        "    else:\n",
        "        print('Código de votação inválido')\n",
        "\n",
        "for cargo, votos in resultados.items():\n",
        "    print(f'{cargo}: {votos} votos')\n"
      ],
      "metadata": {
        "id": "CRlV5NE82kpE",
        "colab": {
          "base_uri": "https://localhost:8080/"
        },
        "outputId": "e4cbe86f-e55e-467a-9fbc-6ad2cafb16e6"
      },
      "execution_count": null,
      "outputs": [
        {
          "output_type": "stream",
          "name": "stdout",
          "text": [
            "Informe o código do voto: 4\n",
            "Informe o código do voto: 1\n",
            "Informe o código do voto: 1\n",
            "Informe o código do voto: 2\n",
            "Informe o código do voto: 3\n",
            "Candidato 1: 2 votos\n",
            "Candidato 2: 1 votos\n",
            "Voto Nulo: 1 votos\n",
            "Voto Branco: 1 votos\n"
          ]
        }
      ]
    },
    {
      "cell_type": "markdown",
      "source": [
        "#Listas por Compreensão:"
      ],
      "metadata": {
        "id": "ffEKF4Kx5eQu"
      }
    },
    {
      "cell_type": "markdown",
      "source": [
        "Crie uma lista com os números Impares de 1 a 20 utilizando listas por compreensão."
      ],
      "metadata": {
        "id": "IrQvRhQM5oj6"
      }
    },
    {
      "cell_type": "code",
      "source": [
        "lista_impares = [numero for numero in range(1, 21) if numero % 2 != 0]\n",
        "\n",
        "print(lista_impares)"
      ],
      "metadata": {
        "colab": {
          "base_uri": "https://localhost:8080/"
        },
        "id": "mtl7BmpNWF4P",
        "outputId": "3007980f-6ca8-49ab-f87c-483867538fc9"
      },
      "execution_count": null,
      "outputs": [
        {
          "output_type": "stream",
          "name": "stdout",
          "text": [
            "[1, 3, 5, 7, 9, 11, 13, 15, 17, 19]\n"
          ]
        }
      ]
    },
    {
      "cell_type": "markdown",
      "source": [
        "Crie uma lista com as letras da frase \"Sou estudante de dados\", utilizando listas por compreensão."
      ],
      "metadata": {
        "id": "R2DKj08Z5tqJ"
      }
    },
    {
      "cell_type": "code",
      "source": [
        "frase = \"Sou estudante de dados\"\n",
        "lista_letras = [letra for letra in frase if letra != \" \"]\n",
        "\n",
        "print(lista_letras)"
      ],
      "metadata": {
        "colab": {
          "base_uri": "https://localhost:8080/"
        },
        "id": "ssCOVfk_W-6g",
        "outputId": "e2d4d3ee-f8d5-481e-9244-de47f7aab973"
      },
      "execution_count": null,
      "outputs": [
        {
          "output_type": "stream",
          "name": "stdout",
          "text": [
            "['S', 'o', 'u', 'e', 's', 't', 'u', 'd', 'a', 'n', 't', 'e', 'd', 'e', 'd', 'a', 'd', 'o', 's']\n"
          ]
        }
      ]
    }
  ]
}