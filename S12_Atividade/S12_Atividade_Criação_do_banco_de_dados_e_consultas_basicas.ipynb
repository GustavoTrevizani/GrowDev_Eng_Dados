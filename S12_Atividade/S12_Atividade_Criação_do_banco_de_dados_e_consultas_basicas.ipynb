{
 "cells": [
  {
   "cell_type": "code",
   "execution_count": 30,
   "metadata": {},
   "outputs": [],
   "source": [
    "import psycopg2 #usada para se conectar e interagir com bancos de dados PostgreSQL\n",
    "from datetime import datetime, timedelta #usados para trabalhar com datas e horas\n",
    "import random #usada para gerar valores aleatórios"
   ]
  },
  {
   "cell_type": "code",
   "execution_count": 31,
   "metadata": {},
   "outputs": [],
   "source": [
    "def conectar():\n",
    "    return psycopg2.connect(\n",
    "        dbname=\"ecommerce\",\n",
    "        user=\"postgres\",\n",
    "        password=\"gustavo1511\",\n",
    "        host=\"localhost\",\n",
    "        port=\"5432\"\n",
    "    )"
   ]
  },
  {
   "cell_type": "code",
   "execution_count": 32,
   "metadata": {},
   "outputs": [],
   "source": [
    "# Gerando uma data aleatória\n",
    "def random_date(start, end):\n",
    "    return start + timedelta(days=random.randint(0, (end - start).days))"
   ]
  },
  {
   "cell_type": "code",
   "execution_count": 33,
   "metadata": {},
   "outputs": [],
   "source": [
    "# Gerando um valor aleatório de preço\n",
    "def random_price():\n",
    "    return round(random.uniform(10.0, 1000.0), 2)"
   ]
  },
  {
   "cell_type": "code",
   "execution_count": 34,
   "metadata": {},
   "outputs": [
    {
     "name": "stdout",
     "output_type": "stream",
     "text": [
      "Dados inseridos com sucesso!\n"
     ]
    }
   ],
   "source": [
    "# Estabelece uma conexão com o banco de dados e cria um cursor para executar comandos SQL\n",
    "conn = conectar()\n",
    "cursor = conn.cursor()\n",
    "\n",
    "# Remove todos os registros existentes numa tabela, garantindo que você comece com uma tabela vazia\n",
    "cursor.execute(\"TRUNCATE TABLE Categoria RESTART IDENTITY CASCADE;\")\n",
    "cursor.execute(\"TRUNCATE TABLE Clientes RESTART IDENTITY CASCADE;\")\n",
    "cursor.execute(\"TRUNCATE TABLE Itens_pedido RESTART IDENTITY CASCADE;\")\n",
    "cursor.execute(\"TRUNCATE TABLE Pagamentos RESTART IDENTITY CASCADE;\")\n",
    "cursor.execute(\"TRUNCATE TABLE Pedidos RESTART IDENTITY CASCADE;\")\n",
    "cursor.execute(\"TRUNCATE TABLE Produtos RESTART IDENTITY CASCADE;\")\n",
    "conn.commit()\n",
    "\n",
    "try:\n",
    "    # Inserção de dados na tabela Categoria\n",
    "    for _ in range(10):\n",
    "        nome = f\"Categoria_{random.randint(1, 100)}\"\n",
    "        descricao = f\"Descrição da {nome}\"\n",
    "        cursor.execute(\n",
    "            \"INSERT INTO Categoria (Nome, Descricao) VALUES (%s, %s) RETURNING ID_Categoria\",\n",
    "            (nome, descricao)\n",
    "        )\n",
    "        categoria_id = cursor.fetchone()[0]  # Armazena o ID da categoria inserida\n",
    "\n",
    "    # Inserção de dados na tabela Produtos\n",
    "    for _ in range(10000):\n",
    "        nome = f\"Produto_{random.randint(1, 10000)}\"\n",
    "        descricao = f\"Descrição do {nome}\"\n",
    "        preco = random_price()\n",
    "        estoque = random.randint(1, 100)\n",
    "        categoria = random.randint(1, 10)  # Escolhe um ID de categoria existente\n",
    "        cursor.execute(\n",
    "            \"INSERT INTO Produtos (Nome, Descricao, Preco, Estoque, Categoria) VALUES (%s, %s, %s, %s, %s)\",\n",
    "            (nome, descricao, preco, estoque, categoria)\n",
    "        )\n",
    "\n",
    "    # Inserção de dados na tabela Clientes\n",
    "    clientes_ids = []\n",
    "    for _ in range(10000):\n",
    "        nome = f\"Cliente_{random.randint(1, 10000)}\"\n",
    "        endereco = f\"Endereço do {nome}\"\n",
    "        telefone = f\"+5511{random.randint(100000000, 999999999)}\"\n",
    "        email = f\"{nome}@exemplo.com\"\n",
    "        \n",
    "        # Garantir que o email seja único\n",
    "        while True:\n",
    "            cursor.execute(\"SELECT COUNT(*) FROM Clientes WHERE Email = %s\", (email,))\n",
    "            if cursor.fetchone()[0] == 0:\n",
    "                break\n",
    "            email = f\"{nome}{random.randint(1000, 9999)}@exemplo.com\"  # Adiciona um número aleatório ao email\n",
    "        \n",
    "        data_nascimento = random_date(datetime(1950, 1, 1), datetime(2000, 12, 31)).date()\n",
    "        cursor.execute(\n",
    "            \"INSERT INTO Clientes (Nome, Endereco, Telefone, Email, Data_Nascimento) VALUES (%s, %s, %s, %s, %s) RETURNING ID_Cliente\",\n",
    "            (nome, endereco, telefone, email, data_nascimento)\n",
    "        )\n",
    "        clientes_ids.append(cursor.fetchone()[0])  # Armazena o ID do cliente inserido\n",
    "\n",
    "    # Inserção de dados na tabela Pedidos\n",
    "    pedidos_ids = []\n",
    "    for _ in range(10000):\n",
    "        data_pedido = random_date(datetime(2020, 1, 1), datetime(2023, 12, 31))\n",
    "        status = random.choice(['Pendente', 'Processando', 'Concluído', 'Cancelado'])\n",
    "        valor_total = random_price()\n",
    "        id_cliente = random.choice(clientes_ids)  # Escolhe um ID de cliente existente\n",
    "        cursor.execute(\n",
    "            \"INSERT INTO Pedidos (Data_Pedido, Status, Valor_Total, ID_Cliente) VALUES (%s, %s, %s, %s) RETURNING ID_Pedido\",\n",
    "            (data_pedido, status, valor_total, id_cliente)\n",
    "        )\n",
    "        pedidos_ids.append(cursor.fetchone()[0])  # Armazena o ID do pedido inserido\n",
    "\n",
    "    # Inserção de dados na tabela Itens_Pedido\n",
    "    for _ in range(10000):\n",
    "        quantidade = random.randint(1, 10)\n",
    "        preco_unitario = random_price()\n",
    "        subtotal = round(preco_unitario * quantidade, 2)\n",
    "        id_pedido = random.choice(pedidos_ids)  # Escolhe um ID de pedido existente\n",
    "        id_produto = random.randint(1, 10000)  # Supondo que o ID do produto está no intervalo de 1 a 10000\n",
    "        cursor.execute(\n",
    "            \"INSERT INTO Itens_Pedido (Quantidade, Preco_Unitario, Subtotal, ID_Pedido, ID_Produto) VALUES (%s, %s, %s, %s, %s)\",\n",
    "            (quantidade, preco_unitario, subtotal, id_pedido, id_produto)\n",
    "        )\n",
    "\n",
    "    # Inserção de dados na tabela Pagamentos\n",
    "    for _ in range(10000):\n",
    "        data_pagamento = random_date(datetime(2020, 1, 1), datetime(2023, 12, 31)).date()\n",
    "        valor_pago = random_price()\n",
    "        metodo_pagamento = random.choice(['Cartão de Crédito', 'Boleto', 'Pix', 'PayPal'])\n",
    "        id_pedido = random.choice(pedidos_ids)  # Escolhe um ID de pedido existente\n",
    "        cursor.execute(\n",
    "            \"INSERT INTO Pagamentos (Data_Pagamento, Valor_Pago, Metodo_Pagamento, ID_Pedido) VALUES (%s, %s, %s, %s)\",\n",
    "            (data_pagamento, valor_pago, metodo_pagamento, id_pedido)\n",
    "        )\n",
    "\n",
    "    # Confirma as transações\n",
    "    conn.commit()\n",
    "    print(\"Dados inseridos com sucesso!\")\n",
    "except Exception as e:\n",
    "    print(f\"Erro ao inserir dados: {e}\")\n",
    "    conn.rollback()\n",
    "finally:\n",
    "    cursor.close()\n",
    "    conn.close()"
   ]
  }
 ],
 "metadata": {
  "kernelspec": {
   "display_name": "Python 3",
   "language": "python",
   "name": "python3"
  },
  "language_info": {
   "codemirror_mode": {
    "name": "ipython",
    "version": 3
   },
   "file_extension": ".py",
   "mimetype": "text/x-python",
   "name": "python",
   "nbconvert_exporter": "python",
   "pygments_lexer": "ipython3",
   "version": "3.11.9"
  }
 },
 "nbformat": 4,
 "nbformat_minor": 2
}
