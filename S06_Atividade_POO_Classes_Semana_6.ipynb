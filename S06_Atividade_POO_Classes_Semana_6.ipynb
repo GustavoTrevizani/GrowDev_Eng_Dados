{
  "nbformat": 4,
  "nbformat_minor": 0,
  "metadata": {
    "colab": {
      "provenance": []
    },
    "kernelspec": {
      "name": "python3",
      "display_name": "Python 3"
    },
    "language_info": {
      "name": "python"
    }
  },
  "cells": [
    {
      "cell_type": "markdown",
      "source": [
        "![Growdev](https://www.growdev.com.br/assets/images/logo_growdev.png)"
      ],
      "metadata": {
        "id": "v8pFWwviib2C"
      }
    },
    {
      "cell_type": "markdown",
      "source": [
        "![Formação Engenharia de Dados](https://d335luupugsy2.cloudfront.net/cms/files/524558/1707226566/$occu5m8t1op)"
      ],
      "metadata": {
        "id": "6Tkl4_HxifXZ"
      }
    },
    {
      "cell_type": "markdown",
      "source": [
        "Este material tem como objetivo incentivar a prática dos conteúdos estudados até o momento, e a pesquisa. Tenha em consideração que o exercício foi pensado para incentivar a prática dos conteúdos estudados até então, porém aprender a pesquisar faz parte do processo de aprendizagem.\n",
        "\n",
        "Fique tranquilo, faça os exercícios com calma, e boa prática!\n"
      ],
      "metadata": {
        "id": "ty7Bzyl1i9bN"
      }
    },
    {
      "cell_type": "markdown",
      "source": [
        "#Orientações:\n",
        "\n",
        " - Faça uma copia deste arquivo\n",
        " - Após concluir os exercicios, suba seu exercicio para o GitHub e compartilhe o link no **google** Classroom\n"
      ],
      "metadata": {
        "id": "DU5-yCQwjx3V"
      }
    },
    {
      "cell_type": "markdown",
      "source": [
        "#Exercícios"
      ],
      "metadata": {
        "id": "EzT810tnlmfE"
      }
    },
    {
      "cell_type": "markdown",
      "source": [
        "Crie uma classe que modele uma bola:\n",
        "- Atributos\n",
        " - Cor\n",
        " - Circunferência\n",
        " - Material\n",
        "- Métodos\n",
        " - troca_cor\n",
        " - mostra_cor\n"
      ],
      "metadata": {
        "id": "sYEv1vohLu34"
      }
    },
    {
      "cell_type": "code",
      "source": [
        "class Bola:\n",
        "  def __init__(self, cor, circunferencia, material):\n",
        "    self.cor = cor\n",
        "    self.circunferencia = circunferencia\n",
        "    self.material = material\n",
        "\n",
        "  def troca_cor(self, nova_cor):\n",
        "    self.cor = nova_cor\n",
        "\n",
        "  def mostra_cor(self):\n",
        "    return self.cor\n",
        "\n",
        "bola = Bola(\"Azul\", 30, \"Couro\")\n",
        "print(bola.mostra_cor())\n",
        "bola.troca_cor(\"Vermelho\")\n",
        "print(bola.mostra_cor())"
      ],
      "metadata": {
        "id": "0drCl45SMELV",
        "colab": {
          "base_uri": "https://localhost:8080/"
        },
        "outputId": "883f0942-37be-4ef4-921b-ad8218a3d8a5"
      },
      "execution_count": 6,
      "outputs": [
        {
          "output_type": "stream",
          "name": "stdout",
          "text": [
            "Azul\n",
            "Vermelho\n"
          ]
        }
      ]
    },
    {
      "cell_type": "markdown",
      "source": [
        "Crie uma classe que modele um retângulo:\n",
        "- Atributos:\n",
        " - LadoA,\n",
        " - LadoB\n",
        "  - (ou Comprimento e Largura, ou Base e Altura, a escolher)\n",
        "- Métodos:\n",
        " - Mudar valor dos lados\n",
        " - Retornar valor dos lados\n",
        " - Calcular Área\n",
        " - Calcular Perímetro;\n",
        "\n",
        "- Crie  um  programa  que  utilize  esta  classe.  Ele  deve  pedir  ao  usuário  que  informe  as  medidas  de  um  local.  \n",
        "Depois,  deve-se criar  um  objeto  com  as  medidas  e  calcular  a quantidade (em m²) de pisos (1 x 1 m²) e de rodapés necessários para o local.\n"
      ],
      "metadata": {
        "id": "6y7X1dc-MFr1"
      }
    },
    {
      "cell_type": "code",
      "source": [
        "class Retangulo:\n",
        "    def __init__(self, lado_a, lado_b):\n",
        "        self.lado_a = lado_a\n",
        "        self.lado_b = lado_b\n",
        "\n",
        "    def mudar_valor_lados(self, novo_lado_a, novo_lado_b):\n",
        "        self.lado_a = novo_lado_a\n",
        "        self.lado_b = novo_lado_b\n",
        "\n",
        "    def retornar_valor_lados(self):\n",
        "        return self.lado_a, self.lado_b\n",
        "\n",
        "    def calcular_area(self):\n",
        "        return self.lado_a * self.lado_b\n",
        "\n",
        "    def calcular_perimetro(self):\n",
        "        return 2 * (self.lado_a + self.lado_b)\n",
        "\n",
        "lado_a = float(input(\"Digite o valor do lado A: \"))\n",
        "lado_b = float(input(\"Digite o valor do lado B: \"))\n",
        "retangulo = Retangulo(lado_a, lado_b)\n",
        "\n",
        "print(\"Área:\", retangulo.calcular_area())\n",
        "print(\"Perímetro:\", retangulo.calcular_perimetro())"
      ],
      "metadata": {
        "id": "6X6M5T7EMb-G",
        "colab": {
          "base_uri": "https://localhost:8080/"
        },
        "outputId": "54b3c7e6-14e6-4dcd-ca45-1f2ab1eb8ea6"
      },
      "execution_count": 7,
      "outputs": [
        {
          "output_type": "stream",
          "name": "stdout",
          "text": [
            "Digite o valor do lado A: 15\n",
            "Digite o valor do lado B: 20\n",
            "Área: 300.0\n",
            "Perímetro: 70.0\n"
          ]
        }
      ]
    },
    {
      "cell_type": "code",
      "source": [
        "class Retangulo:\n",
        "    def __init__(self, comprimento, largura):\n",
        "        self.comprimento = comprimento\n",
        "        self.largura = largura\n",
        "\n",
        "    def calcular_area(self):\n",
        "        return self.comprimento * self.largura\n",
        "\n",
        "    def calcular_perimetro(self):\n",
        "        return 2 * (self.comprimento + self.largura)\n",
        "\n",
        "# Função para calcular quantidade de pisos e rodapés\n",
        "def calcular_pisos_rodapes(local):\n",
        "    area = local.calcular_area()\n",
        "    perimetro = local.calcular_perimetro()\n",
        "    quantidade_pisos = area\n",
        "    quantidade_rodapes = perimetro\n",
        "    return quantidade_pisos, quantidade_rodapes\n",
        "\n",
        "# Solicita ao usuário as medidas do local\n",
        "comprimento = float(input(\"Digite o comprimento do local (em metros): \"))\n",
        "largura = float(input(\"Digite a largura do local (em metros): \"))\n",
        "\n",
        "# Cria um objeto Retangulo com as medidas informadas\n",
        "local = Retangulo(comprimento, largura)\n",
        "\n",
        "# Calcula a quantidade de pisos e rodapés necessários\n",
        "quantidade_pisos, quantidade_rodapes = calcular_pisos_rodapes(local)\n",
        "\n",
        "# Imprime os resultados\n",
        "print(\"Quantidade de pisos necessários:\", quantidade_pisos, \"m²\")\n",
        "print(\"Quantidade de rodapés necessários:\", quantidade_rodapes, \"metros\")"
      ],
      "metadata": {
        "colab": {
          "base_uri": "https://localhost:8080/"
        },
        "id": "mfyX96Ou_LUa",
        "outputId": "a31b61ae-5326-4dcd-8506-ec0b9a4e344b"
      },
      "execution_count": 8,
      "outputs": [
        {
          "output_type": "stream",
          "name": "stdout",
          "text": [
            "Digite o comprimento do local (em metros): 100\n",
            "Digite a largura do local (em metros): 100\n",
            "Quantidade de pisos necessários: 10000.0 m²\n",
            "Quantidade de rodapés necessários: 400.0 metros\n"
          ]
        }
      ]
    },
    {
      "cell_type": "markdown",
      "source": [
        "Crie  uma  classe  para  implementar  uma conta  corrente.  \n",
        "- A  classe  deve  possuir  os  seguintes  atributos:  \n",
        "  - número  da  conta\n",
        " - nome  do  correntista\n",
        " - saldo\n",
        "- Os métodos são os seguintes:\n",
        " - alterar_nome\n",
        " - deposito\n",
        " - saque\n",
        "\n",
        "No construtor, o saldo é opcional, com valor padrão zero e os demais atributos são obrigatórios.\n"
      ],
      "metadata": {
        "id": "FgEq2x_mMicx"
      }
    },
    {
      "cell_type": "code",
      "source": [
        "class ContaCorrente:\n",
        "    def __init__(self, numero, nome_correntista, saldo=0):\n",
        "        self.numero = numero\n",
        "        self.nome_correntista = nome_correntista\n",
        "        self.saldo = saldo\n",
        "\n",
        "    def alterar_nome(self, novo_nome):\n",
        "        self.nome_correntista = novo_nome\n",
        "\n",
        "    def deposito(self, valor):\n",
        "        self.saldo += valor\n",
        "\n",
        "    def saque(self, valor):\n",
        "        if valor <= self.saldo:\n",
        "            self.saldo -= valor\n",
        "        else:\n",
        "            print(\"Saldo insuficiente\")\n",
        "\n",
        "conta = ContaCorrente(12345, \"Gustavo Trevizani\")\n",
        "conta.deposito(500)\n",
        "print(\"Saldo:\", conta.saldo)\n",
        "conta.saque(100)\n",
        "print(\"Saldo:\", conta.saldo)"
      ],
      "metadata": {
        "colab": {
          "base_uri": "https://localhost:8080/"
        },
        "id": "8gsGuhS3_iL6",
        "outputId": "29d4d2d1-7400-4f8e-b7e6-aad9f164cb4c"
      },
      "execution_count": 11,
      "outputs": [
        {
          "output_type": "stream",
          "name": "stdout",
          "text": [
            "Saldo: 500\n",
            "Saldo: 400\n"
          ]
        }
      ]
    },
    {
      "cell_type": "markdown",
      "source": [
        "Crie uma classe que modele um Tamagochi (Bichinho Eletrônico):\n",
        "- Atributos\n",
        " - Nome\n",
        " - Fome\n",
        " - Saúde\n",
        " - Idade.  \n",
        "- Métodos\n",
        " - alterar_nome,  \n",
        " - alterar_fome\n",
        " - alterar_saude\n",
        " - alterar_idade\n",
        " - retornar_nome\n",
        " - retornar_saude\n",
        " - retornar_idade\n"
      ],
      "metadata": {
        "id": "VFXayO6DNJ3F"
      }
    },
    {
      "cell_type": "code",
      "source": [
        "class Tamagochi:\n",
        "    def __init__(self, nome, fome=0, saude=100, idade=0):\n",
        "        self.nome = nome\n",
        "        self.fome = fome\n",
        "        self.saude = saude\n",
        "        self.idade = idade\n",
        "\n",
        "    def alterar_nome(self, novo_nome):\n",
        "        self.nome = novo_nome\n",
        "\n",
        "    def alterar_fome(self, nova_fome):\n",
        "        self.fome = nova_fome\n",
        "\n",
        "    def alterar_saude(self, nova_saude):\n",
        "        self.saude = nova_saude\n",
        "\n",
        "    def alterar_idade(self, nova_idade):\n",
        "        self.idade = nova_idade\n",
        "\n",
        "    def retornar_nome(self):\n",
        "        return self.nome\n",
        "\n",
        "    def retornar_fome(self):\n",
        "        return self.fome\n",
        "\n",
        "    def retornar_saude(self):\n",
        "        return self.saude\n",
        "\n",
        "    def retornar_idade(self):\n",
        "        return self.idade\n",
        "\n",
        "tamagochi = Tamagochi(\"Bichinho\")\n",
        "tamagochi.alterar_fome(20)\n",
        "tamagochi.alterar_saude(80)\n",
        "tamagochi.alterar_idade(1)\n",
        "print(f'O nome do Tamagochi é {tamagochi.retornar_nome()}')\n",
        "print(f'Fome: {tamagochi.retornar_fome()}')\n",
        "print(f'Saúde: {tamagochi.retornar_saude()}')\n",
        "print(f'Idade: {tamagochi.retornar_idade()}')"
      ],
      "metadata": {
        "id": "JUO0B9kWNcCX",
        "colab": {
          "base_uri": "https://localhost:8080/"
        },
        "outputId": "30802bfc-ed81-40f5-ea3c-e23e20518055"
      },
      "execution_count": 16,
      "outputs": [
        {
          "output_type": "stream",
          "name": "stdout",
          "text": [
            "O nome do Tamagochi é Bichinho\n",
            "Fome: 20\n",
            "Saúde: 80\n",
            "Idade: 1\n"
          ]
        }
      ]
    },
    {
      "cell_type": "markdown",
      "source": [
        "Implemente uma classe chamada Carro com as seguintes propriedades:\n",
        "\n",
        "Um veículo tem um certo consumo de combustível (medidos em km / litro) e uma certa quantidade de combustível no tanque.\n",
        "\n",
        "- O consumo é especificado no construtor e o nível de combustível inicial é 0.\n",
        "\n",
        "\n",
        " - Forneça um método andar() que simula o ato de dirigir o veículo por uma certa distância, reduzindo o nível de combustível no tanque de gasolina.\n",
        "\n",
        "- Forneça um método obter_gasolina(), que retorna o nível atual de combustível\n",
        "\n",
        "  e forneça um método adicionar_gasolina(), para abastecer o tanque.\n",
        "\n"
      ],
      "metadata": {
        "id": "aqaMxrGMNhQv"
      }
    },
    {
      "cell_type": "code",
      "source": [
        "class Carro:\n",
        "    def __init__(self, consumo):\n",
        "        self.consumo = consumo  # km por litro\n",
        "        self.combustivel = 0\n",
        "\n",
        "    def andar(self, distancia):\n",
        "        litros_necessarios = distancia / self.consumo\n",
        "        if litros_necessarios <= self.combustivel:\n",
        "            self.combustivel -= litros_necessarios\n",
        "        else:\n",
        "            print(\"Combustível insuficiente para percorrer a distância desejada\")\n",
        "\n",
        "    def obter_gasolina(self):\n",
        "        return self.combustivel\n",
        "\n",
        "    def adicionar_gasolina(self, quantidade):\n",
        "        self.combustivel += quantidade\n",
        "\n",
        "carro = Carro(15)  # 15 km por litro\n",
        "carro.adicionar_gasolina(20)  # Adiciona 20 litros de gasolina\n",
        "carro.andar(100)  # Tenta andar 100 km\n",
        "print(\"Combustível restante:\", carro.obter_gasolina())  # Deve imprimir o combustível restante\n"
      ],
      "metadata": {
        "id": "yoT1FXJSzKwj",
        "colab": {
          "base_uri": "https://localhost:8080/"
        },
        "outputId": "04964d39-d642-4b18-dfa9-5d782cbd0ca4"
      },
      "execution_count": 17,
      "outputs": [
        {
          "output_type": "stream",
          "name": "stdout",
          "text": [
            "Combustível restante: 13.333333333333332\n"
          ]
        }
      ]
    }
  ]
}