{
  "nbformat": 4,
  "nbformat_minor": 0,
  "metadata": {
    "colab": {
      "provenance": []
    },
    "kernelspec": {
      "name": "python3",
      "display_name": "Python 3"
    },
    "language_info": {
      "name": "python"
    }
  },
  "cells": [
    {
      "cell_type": "markdown",
      "source": [
        "![Growdev](https://www.growdev.com.br/assets/images/logo_growdev.png)"
      ],
      "metadata": {
        "id": "v8pFWwviib2C"
      }
    },
    {
      "cell_type": "markdown",
      "source": [
        "![Formação Engenharia de Dados](https://d335luupugsy2.cloudfront.net/cms/files/524558/1707226566/$occu5m8t1op)"
      ],
      "metadata": {
        "id": "6Tkl4_HxifXZ"
      }
    },
    {
      "cell_type": "markdown",
      "source": [
        "Este material tem como objetivo incentivar a prática dos conteúdos estudados até o momento, e a pesquisa. Tenha em consideração que o exercício foi pensado para incentivar a prática dos conteúdos estudados até então, porém aprender a pesquisar faz parte do processo de aprendizagem.\n",
        "\n",
        "Fique tranquilo, faça os exercícios com calma, e boa prática!\n"
      ],
      "metadata": {
        "id": "ty7Bzyl1i9bN"
      }
    },
    {
      "cell_type": "markdown",
      "source": [
        "#Orientações:\n",
        "\n",
        " - Faça uma copia deste arquivo\n",
        " - Após concluir os exercicios, suba seu exercicio para o GitHub e compartilhe o link no **google** Classroom\n"
      ],
      "metadata": {
        "id": "DU5-yCQwjx3V"
      }
    },
    {
      "cell_type": "markdown",
      "source": [
        "\n",
        "Utilize o dataset contido nesse [link](https://www.kaggle.com/datasets/upadorprofzs/testes), e responda as questões abaixo.\n",
        "\n",
        "O dataset contém dados estatísticos do IBGE relativos à escolaridade, renda entre outros campos avaliados pela  PNAD (Pesquisa Nacional por Amostra de Domicílios).\n",
        "\n",
        "Os dados podem representar informações relevantes e reveladoras sobre a distribuição de renda e possivelmente alguns indicadores sobre tais situações encontradas a partir dos dados."
      ],
      "metadata": {
        "id": "jPJ5hyxa2cos"
      }
    },
    {
      "cell_type": "markdown",
      "source": [
        "#Exercícios"
      ],
      "metadata": {
        "id": "EzT810tnlmfE"
      }
    },
    {
      "cell_type": "code",
      "source": [
        "import pandas as pd"
      ],
      "metadata": {
        "id": "Qsl3tXNkSyUb"
      },
      "execution_count": null,
      "outputs": []
    },
    {
      "cell_type": "code",
      "source": [
        "df = pd.read_csv ('dados.csv')"
      ],
      "metadata": {
        "id": "YY_hqBnaTgYq"
      },
      "execution_count": null,
      "outputs": []
    },
    {
      "cell_type": "code",
      "source": [
        "print(df.head())"
      ],
      "metadata": {
        "colab": {
          "base_uri": "https://localhost:8080/"
        },
        "id": "8ON7O9QWVM_R",
        "outputId": "7df22478-2372-42ac-e247-e48f7149d5a0"
      },
      "execution_count": null,
      "outputs": [
        {
          "output_type": "stream",
          "name": "stdout",
          "text": [
            "   UF  Sexo  Idade  Cor  Anos de Estudo  Renda    Altura\n",
            "0  11     0     23    8              12    800  1.603808\n",
            "1  11     1     23    2              12   1150  1.739790\n",
            "2  11     1     35    8              15    880  1.760444\n",
            "3  11     0     46    2               6   3500  1.783158\n",
            "4  11     1     47    8               9    150  1.690631\n"
          ]
        }
      ]
    },
    {
      "cell_type": "markdown",
      "source": [
        "**ID's REFERENTES À COR:**\n",
        "\n",
        "**0**: Indígena\n",
        "\n",
        "**2**: Branca\n",
        "\n",
        "**4**: Preta\n",
        "\n",
        "**6**: Amarela\n",
        "\n",
        "**8**: Parda"
      ],
      "metadata": {
        "id": "LWlPyBIO1bJ8"
      }
    },
    {
      "cell_type": "markdown",
      "source": [
        "**ID's REFERENTES AO SEXO:**\n",
        "\n",
        "**0**: Masculino\n",
        "\n",
        "**1**: Feminino"
      ],
      "metadata": {
        "id": "UsXQD26d2ap_"
      }
    },
    {
      "cell_type": "markdown",
      "source": [
        "Qual a quantidade de pessoas nas seguintes faixas etárias\n",
        "- 20 anos ou menos\n",
        "- 21 a 35 anos\n",
        "- 36 a 50 anos\n",
        "- 51 a 65 anos\n",
        "- maiores de 65 anos\n",
        "\n"
      ],
      "metadata": {
        "id": "sYEv1vohLu34"
      }
    },
    {
      "cell_type": "code",
      "source": [
        "bins = [0, 20, 35, 50, 65, float('inf')] # Define os limites das faixas etárias, ex.: 50 = 36 ao 50. O float('inf') representa o infinito, nesse caso, + 65.\n",
        "labels = ['20 anos ou menos', '21 a 35 anos', '36 a 50 anos', '51 a 65 anos', 'maiores de 65 anos']\n",
        "\n",
        "df['Faixa Etária'] = pd.cut(df['Idade'], bins=bins, labels=labels, right=True)\n",
        "#Coluna nova(Faixa Etária). pd.cut = segmenta e classifica dados em intervalos.\n",
        "\n",
        "contagem_faixas = df['Faixa Etária'].value_counts().reindex(labels, fill_value=0)\n",
        "# reindex(labels, fill_value=0): Reordena a contagem para garantir que todas as faixas etárias definidas em labels estejam presentes no resultado.\n",
        "# fill_value=0 preenche com zero faixa ausente nos dados.\n",
        "\n",
        "print(contagem_faixas)"
      ],
      "metadata": {
        "colab": {
          "base_uri": "https://localhost:8080/"
        },
        "id": "ovTcHn8cflhP",
        "outputId": "3809c9cb-f81b-4c02-b9d4-100165146c23"
      },
      "execution_count": 50,
      "outputs": [
        {
          "output_type": "stream",
          "name": "stdout",
          "text": [
            "Faixa Etária\n",
            "20 anos ou menos        764\n",
            "21 a 35 anos          20654\n",
            "36 a 50 anos          31770\n",
            "51 a 65 anos          20006\n",
            "maiores de 65 anos     3646\n",
            "Name: count, dtype: int64\n"
          ]
        }
      ]
    },
    {
      "cell_type": "markdown",
      "source": [
        "Qual é a média de escolaridade em cada faixa etária?\n"
      ],
      "metadata": {
        "id": "6y7X1dc-MFr1"
      }
    },
    {
      "cell_type": "code",
      "source": [
        "media_escolaridade = df.groupby('Faixa Etária')['Anos de Estudo'].mean() # mean() =  calcula a média aritmética de um conjunto de valores\n",
        "print(media_escolaridade)"
      ],
      "metadata": {
        "id": "6X6M5T7EMb-G",
        "colab": {
          "base_uri": "https://localhost:8080/"
        },
        "outputId": "746db5df-ec1f-4d78-cb2d-4598d4589b50"
      },
      "execution_count": 29,
      "outputs": [
        {
          "output_type": "stream",
          "name": "stdout",
          "text": [
            "Faixa Etária\n",
            "20 anos ou menos       9.695026\n",
            "21 a 35 anos          10.813111\n",
            "36 a 50 anos           9.764274\n",
            "51 a 65 anos           8.267320\n",
            "maiores de 65 anos     5.842293\n",
            "Name: Anos de Estudo, dtype: float64\n"
          ]
        }
      ]
    },
    {
      "cell_type": "markdown",
      "source": [
        "Qual a UF que concentra a maior renda?\n"
      ],
      "metadata": {
        "id": "FgEq2x_mMicx"
      }
    },
    {
      "cell_type": "code",
      "source": [
        "uf_maior_renda = df.groupby('UF')['Renda'].sum().idxmax() # idxmax() = encontra o índice (ou label) do grupo que possui o valor máximo\n",
        "print(f'UF com maior renda: {uf_maior_renda}')"
      ],
      "metadata": {
        "id": "EFe-4pq8NGRf",
        "colab": {
          "base_uri": "https://localhost:8080/"
        },
        "outputId": "8276661a-10f4-4b7d-f6dc-d8ade5b2a3a3"
      },
      "execution_count": 43,
      "outputs": [
        {
          "output_type": "stream",
          "name": "stdout",
          "text": [
            "UF com maior renda: 35\n"
          ]
        }
      ]
    },
    {
      "cell_type": "markdown",
      "source": [
        "Qual a renda média de pessoas pretas e brancas de homens e mulheres?\n"
      ],
      "metadata": {
        "id": "VFXayO6DNJ3F"
      }
    },
    {
      "cell_type": "code",
      "source": [
        "renda_media_cor_genero = df[df['Cor'].isin([2, 4]) & df['Sexo'].isin([0, 1])].groupby(['Cor', 'Sexo'])['Renda'].mean().unstack()\n",
        "# unstack() = desempilha os dados facilitando a visualização e compreensão\n",
        "print(renda_media_cor_genero)"
      ],
      "metadata": {
        "id": "JUO0B9kWNcCX",
        "colab": {
          "base_uri": "https://localhost:8080/"
        },
        "outputId": "fd810b66-c86e-4562-adcb-7421296393fd"
      },
      "execution_count": 123,
      "outputs": [
        {
          "output_type": "stream",
          "name": "stdout",
          "text": [
            "Sexo            0           1\n",
            "Cor                          \n",
            "2     2925.744435  2109.86675\n",
            "4     1603.861687  1134.59640\n"
          ]
        }
      ]
    },
    {
      "cell_type": "markdown",
      "source": [
        "Qual a renda média concentrada em cada faixa etária?\n",
        "\n",
        "\n"
      ],
      "metadata": {
        "id": "aqaMxrGMNhQv"
      }
    },
    {
      "cell_type": "code",
      "source": [
        "renda_media_faixa_etaria = df.groupby('Faixa Etária')['Renda'].mean()\n",
        "print(renda_media_faixa_etaria)"
      ],
      "metadata": {
        "id": "yoT1FXJSzKwj",
        "colab": {
          "base_uri": "https://localhost:8080/"
        },
        "outputId": "91b0b4ca-d6f1-4698-d133-ac1bd8d7f72a"
      },
      "execution_count": 52,
      "outputs": [
        {
          "output_type": "stream",
          "name": "stdout",
          "text": [
            "Faixa Etária\n",
            "20 anos ou menos       985.348168\n",
            "21 a 35 anos          1748.286143\n",
            "36 a 50 anos          2113.756091\n",
            "51 a 65 anos          2150.196741\n",
            "maiores de 65 anos    1831.231487\n",
            "Name: Renda, dtype: float64\n"
          ]
        }
      ]
    },
    {
      "cell_type": "markdown",
      "source": [
        "Qual a renda média nas faixas de anos de estudo abaixo?\n",
        "- 2 anos ou menos\n",
        "- 3 a 6 anos\n",
        "- 7 a 10 anos\n",
        "- 10 a 12 anos\n",
        "- 13 anos ou mais\n"
      ],
      "metadata": {
        "id": "jMjZzRxr29TF"
      }
    },
    {
      "cell_type": "code",
      "source": [
        "bins_estudo = [0, 2, 6, 10, 12, float('inf')]\n",
        "labels_estudo = ['2 anos ou menos', '3 a 6 anos', '7 a 10 anos', '10 a 12 anos', '13 anos ou mais']\n",
        "\n",
        "df['Faixa Estudo'] = pd.cut(df['Anos de Estudo'], bins=bins_estudo, labels=labels_estudo)\n",
        "\n",
        "renda_media_estudo = df.groupby('Faixa Estudo')['Renda'].mean()\n",
        "print(renda_media_estudo)"
      ],
      "metadata": {
        "id": "ZWpciLPN3Ckx",
        "colab": {
          "base_uri": "https://localhost:8080/"
        },
        "outputId": "ebb25d1e-d1b5-44ac-d47a-e8fcc9bb8a57"
      },
      "execution_count": 60,
      "outputs": [
        {
          "output_type": "stream",
          "name": "stdout",
          "text": [
            "Faixa Estudo\n",
            "2 anos ou menos     747.096725\n",
            "3 a 6 anos         1089.379778\n",
            "7 a 10 anos        1370.885114\n",
            "10 a 12 anos       1809.783245\n",
            "13 anos ou mais    4434.409106\n",
            "Name: Renda, dtype: float64\n"
          ]
        }
      ]
    },
    {
      "cell_type": "markdown",
      "source": [
        "Qual a escolaridade entre indígenas, para homens e mulheres?\n"
      ],
      "metadata": {
        "id": "fDxIIqqS3DHs"
      }
    },
    {
      "cell_type": "code",
      "source": [
        "indigenas = df[df['Cor'] == 0]\n",
        "\n",
        "escolaridade_media_indigenas = indigenas.groupby('Sexo')['Anos de Estudo'].mean()\n",
        "\n",
        "print(escolaridade_media_indigenas)"
      ],
      "metadata": {
        "id": "M85a5qNt3E2y",
        "colab": {
          "base_uri": "https://localhost:8080/"
        },
        "outputId": "609056d4-1f7d-4541-d29a-406ca7ccee7b"
      },
      "execution_count": 86,
      "outputs": [
        {
          "output_type": "stream",
          "name": "stdout",
          "text": [
            "Sexo\n",
            "0    7.875000\n",
            "1    9.108911\n",
            "Name: Anos de Estudo, dtype: float64\n"
          ]
        }
      ]
    },
    {
      "cell_type": "markdown",
      "source": [
        "Qual a média de anos de estudo entre brancos e negros?\n"
      ],
      "metadata": {
        "id": "hgqYfhU33FtF"
      }
    },
    {
      "cell_type": "code",
      "source": [
        "media_anos_estudo_brancos_negros = df[(df['Cor'].isin([2, 4]))].groupby('Cor')['Anos de Estudo'].mean()\n",
        "print(media_anos_estudo_brancos_negros)"
      ],
      "metadata": {
        "id": "EK9X8wTZ3UdS",
        "colab": {
          "base_uri": "https://localhost:8080/"
        },
        "outputId": "18a73edf-6581-4d2b-d2b5-b2e1ba29bb7c"
      },
      "execution_count": 128,
      "outputs": [
        {
          "output_type": "stream",
          "name": "stdout",
          "text": [
            "Cor\n",
            "2    10.490303\n",
            "4     8.861518\n",
            "Name: Anos de Estudo, dtype: float64\n"
          ]
        }
      ]
    },
    {
      "cell_type": "markdown",
      "source": [
        "Qual a média de anos de estudo e de renda para mulheres brancas, e para mulheres negras?"
      ],
      "metadata": {
        "id": "_ZjroKKB3WBx"
      }
    },
    {
      "cell_type": "code",
      "source": [
        "renda_mulheres_brancas_negras = df[(df['Sexo'] == 1) & (df['Cor'].isin([2, 4]))].groupby('Cor').agg({'Anos de Estudo': 'mean', 'Renda': 'mean'})\n",
        "# isin: Verifica se os valores da coluna estão presentes na lista especificada e retorna uma série booleana\n",
        "# agg: Permite realizar operações de agregação como média, soma, contagem, etc., em dados agrupados por uma ou mais colunas\n",
        "print(renda_mulheres_brancas_negras)"
      ],
      "metadata": {
        "id": "7dx7zW7M3Wau",
        "colab": {
          "base_uri": "https://localhost:8080/"
        },
        "outputId": "1bc367b3-13ab-431e-aa6a-ed0d62bbb86f"
      },
      "execution_count": 111,
      "outputs": [
        {
          "output_type": "stream",
          "name": "stdout",
          "text": [
            "     Anos de Estudo       Renda\n",
            "Cor                            \n",
            "2         11.297578  2109.86675\n",
            "4          9.522326  1134.59640\n"
          ]
        }
      ]
    },
    {
      "cell_type": "markdown",
      "source": [
        " Qual é a UF com maior média de escolaridade e qual a UF com maior média de renda?"
      ],
      "metadata": {
        "id": "sG2Kkkrd3X5V"
      }
    },
    {
      "cell_type": "code",
      "source": [
        "uf_maior_media_escolaridade = df.groupby('UF')['Anos de Estudo'].mean().idxmax()\n",
        "uf_maior_media_renda = df.groupby('UF')['Renda'].mean().idxmax()\n",
        "\n",
        "print(f'UF com maior média de escolaridade: {uf_maior_media_escolaridade}')\n",
        "print(f'UF com maior média de renda: {uf_maior_media_renda}')"
      ],
      "metadata": {
        "id": "imgwaOGk3YNq",
        "colab": {
          "base_uri": "https://localhost:8080/"
        },
        "outputId": "9944c042-9d14-4d49-f8f1-43c2a0def996"
      },
      "execution_count": 109,
      "outputs": [
        {
          "output_type": "stream",
          "name": "stdout",
          "text": [
            "UF com maior média de escolaridade: 53\n",
            "UF com maior média de renda: 53\n"
          ]
        }
      ]
    },
    {
      "cell_type": "markdown",
      "source": [
        "Elabore você uma pergunta sobre a base de dados e escreva o código para responder a pergunta."
      ],
      "metadata": {
        "id": "72Oy_JJ_3Z7F"
      }
    },
    {
      "cell_type": "markdown",
      "source": [
        "**MINHA PERGUNTA:** Como a escolaridade influencia a renda para diferentes grupos étnicos?"
      ],
      "metadata": {
        "id": "s07ftSHWBQJ_"
      }
    },
    {
      "cell_type": "code",
      "source": [
        "renda_media_escolaridade_etnia = df.groupby(['Faixa Estudo', 'Cor'])['Renda'].mean().unstack()\n",
        "print(renda_media_escolaridade_etnia)"
      ],
      "metadata": {
        "colab": {
          "base_uri": "https://localhost:8080/"
        },
        "id": "9w8LpM3sE1t_",
        "outputId": "24fb4d18-518b-4869-ca58-109ae0ed5f09"
      },
      "execution_count": 137,
      "outputs": [
        {
          "output_type": "stream",
          "name": "stdout",
          "text": [
            "Cor                        0            2            4            6  \\\n",
            "Faixa Estudo                                                          \n",
            "2 anos ou menos   440.050847   992.735987   704.155897   812.545455   \n",
            "3 a 6 anos        735.500000  1305.007548   984.805873  1110.812500   \n",
            "7 a 10 anos       859.528090  1647.250366  1161.288495  1826.142857   \n",
            "10 a 12 anos     1474.978723  2111.718519  1553.523157  2850.125000   \n",
            "13 anos ou mais  5616.707317  5101.664219  2991.119363  6125.713483   \n",
            "\n",
            "Cor                        8  \n",
            "Faixa Estudo                  \n",
            "2 anos ou menos   661.126361  \n",
            "3 a 6 anos        966.353303  \n",
            "7 a 10 anos      1224.851764  \n",
            "10 a 12 anos     1591.765392  \n",
            "13 anos ou mais  3470.923015  \n"
          ]
        }
      ]
    }
  ]
}