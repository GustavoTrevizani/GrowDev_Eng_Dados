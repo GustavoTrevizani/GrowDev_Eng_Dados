{
  "nbformat": 4,
  "nbformat_minor": 0,
  "metadata": {
    "colab": {
      "provenance": []
    },
    "kernelspec": {
      "name": "python3",
      "display_name": "Python 3"
    },
    "language_info": {
      "name": "python"
    }
  },
  "cells": [
    {
      "cell_type": "markdown",
      "source": [
        "![Growdev](https://www.growdev.com.br/assets/images/logo_growdev.png)"
      ],
      "metadata": {
        "id": "v8pFWwviib2C"
      }
    },
    {
      "cell_type": "markdown",
      "source": [
        "![Formação Engenharia de Dados](https://d335luupugsy2.cloudfront.net/cms/files/524558/1707226566/$occu5m8t1op)"
      ],
      "metadata": {
        "id": "6Tkl4_HxifXZ"
      }
    },
    {
      "cell_type": "markdown",
      "source": [
        "Este material tem como objetivo incentivar a prática dos conteúdos estudados até o momento, e a pesquisa. Tenha em consideração que o exercício foi pensado para incentivar a prática dos conteúdos estudados até então, porém aprender a pesquisar faz parte do processo de aprendizagem.\n",
        "\n",
        "Fique tranquilo, faça os exercícios com calma, e boa prática!\n"
      ],
      "metadata": {
        "id": "ty7Bzyl1i9bN"
      }
    },
    {
      "cell_type": "markdown",
      "source": [
        "#Orientações:\n",
        "\n",
        " - Faça uma copia deste arquivo\n",
        " - Após concluir os exercicios, suba seu exercicio para o GitHub e compartilhe o link no **google** Classroom\n"
      ],
      "metadata": {
        "id": "DU5-yCQwjx3V"
      }
    },
    {
      "cell_type": "markdown",
      "source": [
        "#Exercícios"
      ],
      "metadata": {
        "id": "EzT810tnlmfE"
      }
    },
    {
      "cell_type": "markdown",
      "source": [
        "#Funções"
      ],
      "metadata": {
        "id": "rDqBAimhSq_C"
      }
    },
    {
      "cell_type": "markdown",
      "source": [
        "Escreva uma função chamada soma que recebe dois números como parâmetros e retorna a soma deles"
      ],
      "metadata": {
        "id": "AkBqdNST8bCY"
      }
    },
    {
      "cell_type": "code",
      "source": [
        "def soma(num1, num2):\n",
        "  return num1 + num2"
      ],
      "metadata": {
        "id": "ZX7WcXpU04Lx"
      },
      "execution_count": 4,
      "outputs": []
    },
    {
      "cell_type": "code",
      "source": [
        "print(soma(5,10))"
      ],
      "metadata": {
        "colab": {
          "base_uri": "https://localhost:8080/"
        },
        "id": "EbDUXOsO29eI",
        "outputId": "c907355b-a767-4534-96ac-74b35564dc4d"
      },
      "execution_count": 5,
      "outputs": [
        {
          "output_type": "stream",
          "name": "stdout",
          "text": [
            "15\n"
          ]
        }
      ]
    },
    {
      "cell_type": "markdown",
      "source": [
        "Escreva uma função chamada verificar_paridade que recebe um número como parâmetro e retorna True se for par e False se for ímpar."
      ],
      "metadata": {
        "id": "NAa3MBAM830W"
      }
    },
    {
      "cell_type": "code",
      "source": [
        "def verificar_paridade(num):\n",
        "  return num % 2 == 0"
      ],
      "metadata": {
        "id": "CRlV5NE82kpE"
      },
      "execution_count": 6,
      "outputs": []
    },
    {
      "cell_type": "code",
      "source": [
        "print(verificar_paridade(4))"
      ],
      "metadata": {
        "colab": {
          "base_uri": "https://localhost:8080/"
        },
        "id": "hNzhse2s3W8p",
        "outputId": "e0a09718-7cfe-4283-aa7f-fef8eeca718e"
      },
      "execution_count": 7,
      "outputs": [
        {
          "output_type": "stream",
          "name": "stdout",
          "text": [
            "True\n"
          ]
        }
      ]
    },
    {
      "cell_type": "code",
      "source": [
        "print(verificar_paridade(7))"
      ],
      "metadata": {
        "colab": {
          "base_uri": "https://localhost:8080/"
        },
        "id": "PeCp8VKw3aSo",
        "outputId": "e44992a0-3464-412a-8ed3-238e79c718c2"
      },
      "execution_count": 8,
      "outputs": [
        {
          "output_type": "stream",
          "name": "stdout",
          "text": [
            "False\n"
          ]
        }
      ]
    },
    {
      "cell_type": "markdown",
      "source": [
        "Escreva uma função chamada verificar_palindromo que recebe uma string como parâmetro e retorna True se for um palíndromo (uma palavra que é igual se lida da esquerda para a direita e vice-versa) e False caso contrário."
      ],
      "metadata": {
        "id": "S7Rh1p4N8_dp"
      }
    },
    {
      "cell_type": "code",
      "source": [
        "def verificar_palindromo(palavra):\n",
        "  return palavra == palavra[::-1] #inverte a string palavra"
      ],
      "metadata": {
        "id": "jY3rGEWc9Gb5"
      },
      "execution_count": 15,
      "outputs": []
    },
    {
      "cell_type": "code",
      "source": [
        "print(verificar_palindromo('osso'))"
      ],
      "metadata": {
        "colab": {
          "base_uri": "https://localhost:8080/"
        },
        "id": "alwpo0Ic6rR3",
        "outputId": "cd81a8a1-69a9-4b62-850c-33ae1f6d485a"
      },
      "execution_count": 16,
      "outputs": [
        {
          "output_type": "stream",
          "name": "stdout",
          "text": [
            "True\n"
          ]
        }
      ]
    },
    {
      "cell_type": "code",
      "source": [
        "print(verificar_palindromo('casa'))"
      ],
      "metadata": {
        "colab": {
          "base_uri": "https://localhost:8080/"
        },
        "id": "yGl4hV0u6PVE",
        "outputId": "8edd6698-eb19-4100-f348-4ea5f1bd22ce"
      },
      "execution_count": 17,
      "outputs": [
        {
          "output_type": "stream",
          "name": "stdout",
          "text": [
            "False\n"
          ]
        }
      ]
    },
    {
      "cell_type": "markdown",
      "source": [
        "##Desafio listas e funções:"
      ],
      "metadata": {
        "id": "suLU217H9G51"
      }
    },
    {
      "cell_type": "markdown",
      "source": [
        "Crie uma função que representa o jogo batalha naval.\n",
        "\n",
        "Dentro da função crie uma estrutura bidimensional utilizando listas com sublistas para representar um tabuleiro (1 lista com 20 elementos e cada elemento é uma lista de 20 elementos, tabuleiro 20x20). Cada posição irá armazenar 1 valor numérico que significa:\n",
        "- 0 - Água\n",
        "- 1 - Navio\n",
        "\n",
        "Para cada posição escolha esses valores aleatoriamente, respeitando a regra de que não podem existir mais de 20 navios no tabuleiro.\n",
        "\n",
        "Após os valores serem distribuídos, o programa deve pedir ao usuário uma posição do tabuleiro e informar se ele acertou um navio ou água e repetir o procedimento até que o usuário derrote todos os navios ou chegue ao limite de 35 tentativas.\n",
        "\n"
      ],
      "metadata": {
        "id": "zv3Edx_T-TF5"
      }
    },
    {
      "cell_type": "code",
      "source": [
        "import random\n",
        "# Função para criar e preencher o tabuleiro\n",
        "def criar_tabuleiro():\n",
        "    tabuleiro = []\n",
        "    for i in range(20):\n",
        "        linha = [0] * 20\n",
        "        tabuleiro.append(linha)\n",
        "\n",
        "    navios_colocados = 0\n",
        "    while navios_colocados < 50:\n",
        "        x = random.randint(0, 19)\n",
        "        y = random.randint(0, 19)\n",
        "        if tabuleiro[x][y] == 0:\n",
        "            tabuleiro[x][y] = 1\n",
        "            navios_colocados += 1\n",
        "\n",
        "    return tabuleiro\n",
        "\n",
        "# Função principal do jogo\n",
        "def jogo_batalha():\n",
        "    tabuleiro = criar_tabuleiro()\n",
        "    tentativas = 0\n",
        "    navios_derrotados = 0\n",
        "\n",
        "    print(tabuleiro)\n",
        "\n",
        "    while tentativas < 5 and navios_derrotados < 50:\n",
        "        print(f\"Tentativa {tentativas + 1} de 35\")\n",
        "        x = int(input(\"Informe a linha (0-19): \"))\n",
        "        y = int(input(\"Informe a coluna (0-19): \"))\n",
        "\n",
        "        if x < 0 or x > 19 or y < 0 or y > 19:\n",
        "            print(\"Posição inválida! Tente novamente.\")\n",
        "            continue\n",
        "\n",
        "        if tabuleiro[x][y] == 1:\n",
        "            print(\"Você acertou um navio!\")\n",
        "            navios_derrotados += 1\n",
        "            tabuleiro[x][y] = -1  # Marca navio destruído\n",
        "        elif tabuleiro[x][y] == 0:\n",
        "            print(\"Você acertou a água.\")\n",
        "            tabuleiro[x][y] = -1  # Marca posição já tentada\n",
        "        elif tabuleiro[x][y] == -1:\n",
        "            print(\"Você já tentou esta posição antes! Tente outra.\")\n",
        "            continue\n",
        "\n",
        "        tentativas += 1\n",
        "        print(f\"Navios derrotados: {navios_derrotados}/20\\n\")\n",
        "\n",
        "    if navios_derrotados == 20:\n",
        "        print(\"Parabéns! Você derrotou todos os navios.\")\n",
        "    else:\n",
        "        print(\"Fim de jogo! Você atingiu o limite de tentativas.\")\n",
        "\n",
        "# Executar o jogo\n",
        "jogo_batalha()"
      ],
      "metadata": {
        "id": "BhHWwg54-H1j"
      },
      "execution_count": null,
      "outputs": []
    },
    {
      "cell_type": "code",
      "source": [
        "import random\n",
        "\n",
        "def criar_tabuleiro():\n",
        "    tabuleiro = [[0]*20 for _ in range(20)]\n",
        "    navios_colocados = 0\n",
        "    while navios_colocados < 20:\n",
        "        x, y = random.randint(0, 19), random.randint(0, 19)\n",
        "        if tabuleiro[x][y] == 0:\n",
        "            tabuleiro[x][y] = 1\n",
        "            navios_colocados += 1\n",
        "    return tabuleiro\n",
        "\n",
        "def jogar_batalha_naval():\n",
        "    tabuleiro = criar_tabuleiro()\n",
        "    tentativas = 0\n",
        "    acertos_navios = 0\n",
        "    while tentativas < 35 and acertos_navios < 20:\n",
        "        try:\n",
        "            x = int(input(\"Informe a linha (0-19): \"))\n",
        "            y = int(input(\"Informe a coluna (0-19): \"))\n",
        "            if tabuleiro[x][y] == 1:\n",
        "                print(\"Acertou um navio!\")\n",
        "                acertos_navios += 1\n",
        "                tabuleiro[x][y] = -1  # Marca como acertado\n",
        "            else:\n",
        "                print(\"Água!\")\n",
        "            tentativas += 1\n",
        "        except (ValueError, IndexError):\n",
        "            print(\"Entrada inválida. Tente novamente.\")\n",
        "\n",
        "    if acertos_navios == 20:\n",
        "        print(\"Você venceu!\")\n",
        "    else:\n",
        "        print(\"Você perdeu! Tentativas esgotadas.\")\n",
        "\n",
        "jogar_batalha_naval()"
      ],
      "metadata": {
        "id": "y3I6M7KZ7Tg_"
      },
      "execution_count": null,
      "outputs": []
    },
    {
      "cell_type": "markdown",
      "source": [
        "Modifique o programa anterior para exibir as seguintes estatísticas.\n",
        "- Acertos em água\n",
        "- Acertos em Navios\n",
        "- Porcentagem de acertos em água\n",
        "- Porcentagem de acertos em Navios\n",
        "- Acertos ininterruptos (maior quantidade de acertos em sequência)"
      ],
      "metadata": {
        "id": "WUXJN6Dg_GET"
      }
    },
    {
      "cell_type": "code",
      "source": [
        "import random\n",
        "# Função para criar e preencher o tabuleiro\n",
        "def criar_tabuleiro():\n",
        "    tabuleiro = []\n",
        "    for i in range(20):\n",
        "        linha = [0] * 20\n",
        "        tabuleiro.append(linha)\n",
        "\n",
        "    navios_colocados = 0\n",
        "    while navios_colocados < 50:\n",
        "        x = random.randint(0, 19)\n",
        "        y = random.randint(0, 19)\n",
        "        if tabuleiro[x][y] == 0:\n",
        "            tabuleiro[x][y] = 1\n",
        "            navios_colocados += 1\n",
        "\n",
        "    return tabuleiro\n",
        "\n",
        "# Função principal do jogo\n",
        "def jogo_batalha():\n",
        "    tabuleiro = criar_tabuleiro()\n",
        "    tentativas = 0\n",
        "    navios_derrotados = 0\n",
        "\n",
        "    print(tabuleiro)\n",
        "\n",
        "    acerto_agua = 0\n",
        "    acerto_navio = 0\n",
        "\n",
        "    acertos_ininterruptos = 0\n",
        "    lista_acertos = []\n",
        "\n",
        "    while tentativas < 5 and navios_derrotados < 50:\n",
        "        print(f\"Tentativa {tentativas + 1} de 35\")\n",
        "        x = int(input(\"Informe a linha (0-19): \"))\n",
        "        y = int(input(\"Informe a coluna (0-19): \"))\n",
        "\n",
        "        if x < 0 or x > 19 or y < 0 or y > 19:\n",
        "            print(\"Posição inválida! Tente novamente.\")\n",
        "            continue\n",
        "\n",
        "        if tabuleiro[x][y] == 1:\n",
        "            print(\"Você acertou um navio!\")\n",
        "            navios_derrotados += 1\n",
        "            acerto_navio += 1\n",
        "            acertos_ininterruptos += 1\n",
        "            lista_acertos.append(acertos_ininterruptos)\n",
        "            tabuleiro[x][y] = -1  # Marca navio destruído\n",
        "        elif tabuleiro[x][y] == 0:\n",
        "            print(\"Você acertou a água.\")\n",
        "            acerto_agua += 1\n",
        "            acertos_ininterruptos = 0\n",
        "            tabuleiro[x][y] = -1  # Marca posição já tentada\n",
        "        elif tabuleiro[x][y] == -1:\n",
        "            acertos_ininterruptos = 0\n",
        "            print(\"Você já tentou esta posição antes! Tente outra.\")\n",
        "            continue\n",
        "\n",
        "        tentativas += 1\n",
        "        print(f\"Navios derrotados: {navios_derrotados}/20\\n\")\n",
        "\n",
        "    if navios_derrotados == 20:\n",
        "        print(\"Parabéns! Você derrotou todos os navios.\")\n",
        "        print(f'Acertos em Água {acerto_agua}')\n",
        "        print(f'Porcentagem de acertos em água {(acerto_agua/tentativas)*100}%')\n",
        "        print(f'Acertos em Navio {acerto_navio}')\n",
        "        print(f'Porcentagem de acertos em Navios {(acerto_navio/tentativas)*100}%')\n",
        "        print(f'Acertos em Sequência {max(lista_acertos)}')\n",
        "    else:\n",
        "        print(\"Fim de jogo! Você atingiu o limite de tentativas.\")\n",
        "        print(f'Acertos em Água {acerto_agua}')\n",
        "        print(f'Porcentagem de acertos em água {(acerto_agua/tentativas)*100}%')\n",
        "        print(f'Acertos em Navio {acerto_navio}')\n",
        "        print(f'Porcentagem de acertos em Navios {(acerto_navio/tentativas)*100}%')\n",
        "        print(f'Acertos em Sequência {max(lista_acertos)}')\n",
        "\n",
        "# Executar o jogo\n",
        "jogo_batalha()"
      ],
      "metadata": {
        "id": "N5itlDvd_Hbi"
      },
      "execution_count": null,
      "outputs": []
    },
    {
      "cell_type": "markdown",
      "source": [
        "#Manipulação de arquivos: Conteudo será trabalhado na aula do"
      ],
      "metadata": {
        "id": "ffEKF4Kx5eQu"
      }
    },
    {
      "cell_type": "markdown",
      "source": [
        "Utilize o arquivo ‘compras.csv’ como base para resolver os seguintes exercícios.  disponivel em: https://drive.google.com/file/d/1cqqr7kWuBYYJxJ8W_-KHmcZHs6sfV_is/view"
      ],
      "metadata": {
        "id": "IrQvRhQM5oj6"
      }
    },
    {
      "cell_type": "markdown",
      "source": [
        "Utilize as seguintes faixas etárias nos exercícios em que for necessário.\n",
        "- Jovens, 18 a 25 anos\n",
        "- Adultos, 26 a 59 anos\n",
        "- Idosos, igual ou maior que 60 anos\n"
      ],
      "metadata": {
        "id": "J8g6sYrl3Xjg"
      }
    },
    {
      "cell_type": "markdown",
      "source": [
        "Func lista"
      ],
      "metadata": {
        "id": "ZJpTRgx3XdQd"
      }
    },
    {
      "cell_type": "code",
      "source": [
        "import csv\n",
        "\n",
        "def ler_csv_para_lista(caminho_arquivo):\n",
        "    dados = []\n",
        "    with open(caminho_arquivo, newline='', encoding='utf-8') as csvfile:\n",
        "        leitor = csv.reader(csvfile)\n",
        "        cabecalho = next(leitor)\n",
        "        for linha in leitor:\n",
        "            dados.append(linha)\n",
        "    return cabecalho, dados"
      ],
      "metadata": {
        "id": "Jh8PRzZpUaIZ"
      },
      "execution_count": 24,
      "outputs": []
    },
    {
      "cell_type": "code",
      "source": [
        "cabecalho, dados = ler_csv_para_lista('/content/compras.csv')"
      ],
      "metadata": {
        "id": "b1l4pxW4Ubwe"
      },
      "execution_count": 25,
      "outputs": []
    },
    {
      "cell_type": "markdown",
      "source": [
        "func dic"
      ],
      "metadata": {
        "id": "51LKHrRRXfhF"
      }
    },
    {
      "cell_type": "code",
      "source": [
        "import csv\n",
        "\n",
        "def ler_csv_para_dicionario(caminho_arquivo):\n",
        "    dados = {}\n",
        "    with open(caminho_arquivo, newline='', encoding='utf-8') as csvfile:\n",
        "        leitor = csv.reader(csvfile)\n",
        "        cabeçalho = next(leitor)  # Lê a linha de cabeçalho\n",
        "\n",
        "        for i, linha in enumerate(leitor):\n",
        "            individuo = {cabeçalho[j]: linha[j] for j in range(len(cabeçalho))}\n",
        "            dados[i] = individuo\n",
        "\n",
        "    return dados\n"
      ],
      "metadata": {
        "id": "EdtiIwqKVjtQ"
      },
      "execution_count": 26,
      "outputs": []
    },
    {
      "cell_type": "code",
      "source": [
        "dados_dicionario = ler_csv_para_dicionario('/content/compras.csv')"
      ],
      "metadata": {
        "id": "5_wCLU4DVlds"
      },
      "execution_count": 27,
      "outputs": []
    },
    {
      "cell_type": "code",
      "source": [
        "import pprint"
      ],
      "metadata": {
        "id": "Ink56mcQVpNS"
      },
      "execution_count": 28,
      "outputs": []
    },
    {
      "cell_type": "code",
      "source": [
        "pprint.pprint(dados_dicionario)"
      ],
      "metadata": {
        "id": "3fOHjPLVVq8B"
      },
      "execution_count": null,
      "outputs": []
    },
    {
      "cell_type": "markdown",
      "source": [
        "Procure quem foi a pessoa que mais gastou?"
      ],
      "metadata": {
        "id": "apGpARF-3nW9"
      }
    },
    {
      "cell_type": "markdown",
      "source": [
        "Com dic"
      ],
      "metadata": {
        "id": "lTCfBbOjXZYx"
      }
    },
    {
      "cell_type": "code",
      "source": [
        "def encontrar_maior_gasto(dados):\n",
        "    maior_gasto = 0\n",
        "    pessoa_maior_gasto = None\n",
        "\n",
        "    for individuo, info in dados.items():\n",
        "        gasto = float(info['compra'])\n",
        "        if gasto > maior_gasto:\n",
        "            maior_gasto = gasto\n",
        "            pessoa_maior_gasto = info\n",
        "    return pessoa_maior_gasto"
      ],
      "metadata": {
        "id": "EPX_3cU33XOh"
      },
      "execution_count": 30,
      "outputs": []
    },
    {
      "cell_type": "code",
      "source": [
        "encontrar_maior_gasto(dados_dicionario)"
      ],
      "metadata": {
        "colab": {
          "base_uri": "https://localhost:8080/"
        },
        "id": "lEohRvDSWYlJ",
        "outputId": "55a8f46c-f480-4db4-d1b8-cb3c3e1b53dd"
      },
      "execution_count": 31,
      "outputs": [
        {
          "output_type": "execute_result",
          "data": {
            "text/plain": [
              "{'nome': 'Gabriel',\n",
              " 'sobrenome': 'Pereira',\n",
              " 'idade': '67',\n",
              " 'sexo': 'M',\n",
              " 'compra': '9998',\n",
              " 'ano': '2016',\n",
              " 'pagamento': 'debito'}"
            ]
          },
          "metadata": {},
          "execution_count": 31
        }
      ]
    },
    {
      "cell_type": "markdown",
      "source": [
        "Com lista"
      ],
      "metadata": {
        "id": "-WQ9JImSXa01"
      }
    },
    {
      "cell_type": "code",
      "source": [
        "def encontrar_maior_gasto_lista(cabecalho, dados):\n",
        "    indice_compra = cabecalho.index('compra')\n",
        "    maior_gasto = 0\n",
        "    pessoa_maior_gasto = None\n",
        "\n",
        "    for linha in dados:\n",
        "        gasto = float(linha[indice_compra])\n",
        "        if gasto > maior_gasto:\n",
        "            maior_gasto = gasto\n",
        "            pessoa_maior_gasto = linha\n",
        "\n",
        "    pessoa_info = {cabecalho[i]: pessoa_maior_gasto[i] for i in range(len(cabecalho))}\n",
        "    return pessoa_info"
      ],
      "metadata": {
        "id": "zTKcFQ6CXHDC"
      },
      "execution_count": 32,
      "outputs": []
    },
    {
      "cell_type": "code",
      "source": [
        "encontrar_maior_gasto_lista(cabecalho, dados)"
      ],
      "metadata": {
        "colab": {
          "base_uri": "https://localhost:8080/"
        },
        "id": "x4yRgjBfXOPF",
        "outputId": "ec252a9f-aebd-4866-901b-a7ce85b3eae3"
      },
      "execution_count": 33,
      "outputs": [
        {
          "output_type": "execute_result",
          "data": {
            "text/plain": [
              "{'nome': 'Gabriel',\n",
              " 'sobrenome': 'Pereira',\n",
              " 'idade': '67',\n",
              " 'sexo': 'M',\n",
              " 'compra': '9998',\n",
              " 'ano': '2016',\n",
              " 'pagamento': 'debito'}"
            ]
          },
          "metadata": {},
          "execution_count": 33
        }
      ]
    },
    {
      "cell_type": "markdown",
      "source": [
        "Busque quais são os anos da base de dados?"
      ],
      "metadata": {
        "id": "3PBqAffp3o9I"
      }
    },
    {
      "cell_type": "code",
      "source": [
        "def buscar_anos(dados):\n",
        "  anos = set()\n",
        "  for info in dados.values():\n",
        "    anos.add(info['ano'])\n",
        "  return sorted(list(anos))\n",
        "\n",
        "anos = buscar_anos(dados_dicionario)\n",
        "print(anos)"
      ],
      "metadata": {
        "colab": {
          "base_uri": "https://localhost:8080/"
        },
        "id": "65h0oiLJZe0s",
        "outputId": "08e8bd37-2341-4a20-bfba-a88b6cd7575a"
      },
      "execution_count": 34,
      "outputs": [
        {
          "output_type": "stream",
          "name": "stdout",
          "text": [
            "['2005', '2006', '2007', '2008', '2009', '2010', '2011', '2012', '2013', '2014', '2015', '2016', '2017', '2018', '2019', '2020']\n"
          ]
        }
      ]
    },
    {
      "cell_type": "markdown",
      "source": [
        "Qual a porcentagem de homens e mulheres na base de dados?"
      ],
      "metadata": {
        "id": "R2DKj08Z5tqJ"
      }
    },
    {
      "cell_type": "code",
      "source": [
        "def porcentagem_homens_mulheres(dados):\n",
        "  total = len(dados)\n",
        "  homens = sum(1 for info in dados.values() if info['sexo'] == 'M')\n",
        "  mulheres = sum(1 for info in dados.values() if info['sexo'] == 'F')\n",
        "\n",
        "  porcentagem_homens = (homens / total) * 100\n",
        "  porcentagem_mulheres = (mulheres / total) * 100\n",
        "\n",
        "  return porcentagem_homens, porcentagem_mulheres\n",
        "\n",
        "porcentagem_homens, porcentagem_mulheres = porcentagem_homens_mulheres(dados_dicionario)\n",
        "print(f'Homens: {porcentagem_homens:.2f}%, Mulheres: {porcentagem_mulheres:.2f}%')"
      ],
      "metadata": {
        "colab": {
          "base_uri": "https://localhost:8080/"
        },
        "id": "A0HcKGkgaHRb",
        "outputId": "2a8670a6-aeed-4263-cff7-ba8319322d83"
      },
      "execution_count": 36,
      "outputs": [
        {
          "output_type": "stream",
          "name": "stdout",
          "text": [
            "Homens: 57.16%, Mulheres: 42.84%\n"
          ]
        }
      ]
    },
    {
      "cell_type": "markdown",
      "source": [
        "Qual foi o gasto por ano?"
      ],
      "metadata": {
        "id": "Nou_jojr3ztM"
      }
    },
    {
      "cell_type": "code",
      "source": [
        "def gasto_por_anos(dados):\n",
        "  gasto_ano = {}\n",
        "  for info in dados.values():\n",
        "    ano = info['ano']\n",
        "    gasto = float(info['compra'])\n",
        "    if ano in gasto_ano:\n",
        "      gasto_ano[ano] += gasto\n",
        "    else:\n",
        "      gasto_ano[ano] = gasto\n",
        "  return gasto_ano\n",
        "\n",
        "gastos_ano = gasto_por_anos(dados_dicionario)\n",
        "gastos_ano_ordenados = dict(sorted(gastos_ano.items()))\n",
        "for ano, gasto in gastos_ano_ordenados.items():\n",
        "    print(f'Ano: {ano}, Gasto: {gasto}')"
      ],
      "metadata": {
        "colab": {
          "base_uri": "https://localhost:8080/"
        },
        "id": "AbV8io-ZfDDb",
        "outputId": "f33df0a5-cff6-4c61-cc06-c56c5120e253"
      },
      "execution_count": 72,
      "outputs": [
        {
          "output_type": "stream",
          "name": "stdout",
          "text": [
            "Ano: 2005, Gasto: 1542645.0\n",
            "Ano: 2006, Gasto: 1671499.0\n",
            "Ano: 2007, Gasto: 1711268.0\n",
            "Ano: 2008, Gasto: 1475291.0\n",
            "Ano: 2009, Gasto: 1518779.0\n",
            "Ano: 2010, Gasto: 1611940.0\n",
            "Ano: 2011, Gasto: 1668563.0\n",
            "Ano: 2012, Gasto: 1642695.0\n",
            "Ano: 2013, Gasto: 1647590.0\n",
            "Ano: 2014, Gasto: 1671750.0\n",
            "Ano: 2015, Gasto: 1514146.0\n",
            "Ano: 2016, Gasto: 1812226.0\n",
            "Ano: 2017, Gasto: 1645386.0\n",
            "Ano: 2018, Gasto: 1778911.0\n",
            "Ano: 2019, Gasto: 1717606.0\n",
            "Ano: 2020, Gasto: 1515322.0\n"
          ]
        }
      ]
    },
    {
      "cell_type": "markdown",
      "source": [
        "Qual foi o ano com maior gasto?"
      ],
      "metadata": {
        "id": "vgN3teMQ32pg"
      }
    },
    {
      "cell_type": "code",
      "source": [
        "def ano_maior_gasto(gastos_ano):\n",
        "  return max(gastos_ano, key=gastos_ano.get)\n",
        "\n",
        "ano_maior_gasto = ano_maior_gasto(gastos_ano)\n",
        "print(f'Ano com maior gasto: {ano_maior_gasto}')"
      ],
      "metadata": {
        "colab": {
          "base_uri": "https://localhost:8080/"
        },
        "id": "phWRIpsmi60E",
        "outputId": "4a5c1ab8-e31b-4d8a-d185-056b7b415297"
      },
      "execution_count": 54,
      "outputs": [
        {
          "output_type": "stream",
          "name": "stdout",
          "text": [
            "Ano com maior gasto: 2016\n"
          ]
        }
      ]
    },
    {
      "cell_type": "markdown",
      "source": [
        "Utilizando as faixas etárias, diga quantas pessoas há em cada faixa?"
      ],
      "metadata": {
        "id": "V_y9EX0p34-E"
      }
    },
    {
      "cell_type": "code",
      "source": [
        "def contar_pessoas_por_faixa_etaria(dados):\n",
        "    faixas = {'Jovens': 0, 'Adultos': 0, 'Idosos': 0}\n",
        "\n",
        "    for info in dados.values():\n",
        "        idade = int(info['idade'])\n",
        "        if 18 <= idade <= 25:\n",
        "            faixas['Jovens'] += 1\n",
        "        elif 26 <= idade <= 59:\n",
        "            faixas['Adultos'] += 1\n",
        "        elif idade >= 60:\n",
        "            faixas['Idosos'] += 1\n",
        "\n",
        "    return faixas\n",
        "\n",
        "pessoas_faixas_etarias = contar_pessoas_por_faixa_etaria(dados_dicionario)\n",
        "print(pessoas_faixas_etarias)"
      ],
      "metadata": {
        "id": "ukkjPSE738r8",
        "colab": {
          "base_uri": "https://localhost:8080/"
        },
        "outputId": "43ee66d2-2e21-4a81-9951-4ad005a78877"
      },
      "execution_count": 55,
      "outputs": [
        {
          "output_type": "stream",
          "name": "stdout",
          "text": [
            "{'Jovens': 728, 'Adultos': 3280, 'Idosos': 992}\n"
          ]
        }
      ]
    },
    {
      "cell_type": "markdown",
      "source": [
        "Qual é a faixa etária que mais gasta?"
      ],
      "metadata": {
        "id": "_7qmp-1y36Ac"
      }
    },
    {
      "cell_type": "code",
      "source": [
        "def faixa_etaria_mais_gasta(dados):\n",
        "    gastos_faixas = {'Jovens': 0, 'Adultos': 0, 'Idosos': 0}\n",
        "\n",
        "    for info in dados.values():\n",
        "        idade = int(info['idade'])\n",
        "        gasto = float(info['compra'])\n",
        "        if 18 <= idade <= 25:\n",
        "            gastos_faixas['Jovens'] += gasto\n",
        "        elif 26 <= idade <= 59:\n",
        "            gastos_faixas['Adultos'] += gasto\n",
        "        elif idade >= 60:\n",
        "            gastos_faixas['Idosos'] += gasto\n",
        "\n",
        "    faixa_mais_gasta = max(gastos_faixas, key=gastos_faixas.get)\n",
        "    return faixa_mais_gasta, gastos_faixas\n",
        "\n",
        "faixa_mais_gasta, gastos_faixas = faixa_etaria_mais_gasta(dados_dicionario)\n",
        "print(f\"A faixa etária que mais gasta: {faixa_mais_gasta}\")"
      ],
      "metadata": {
        "id": "O0_Wt4I838V0",
        "colab": {
          "base_uri": "https://localhost:8080/"
        },
        "outputId": "dc2af2fa-64e4-4055-8d5c-ffada3ca1435"
      },
      "execution_count": 56,
      "outputs": [
        {
          "output_type": "stream",
          "name": "stdout",
          "text": [
            "A faixa etária que mais gasta: Adultos\n"
          ]
        }
      ]
    },
    {
      "cell_type": "markdown",
      "source": [
        "A opção de débito é mais utilizada entre homens ou mulheres?"
      ],
      "metadata": {
        "id": "L_EUiizw3-jM"
      }
    },
    {
      "cell_type": "code",
      "source": [
        "def debito_por_sexo(dados):\n",
        "  debito_homens = sum(1 for info in dados.values() if info['sexo'] == 'M' and info['pagamento'] == 'debito')\n",
        "  debito_mulheres = sum(1 for info in dados.values() if info['sexo'] == 'F' and info['pagamento'] == 'debito')\n",
        "\n",
        "  return debito_homens, debito_mulheres\n",
        "\n",
        "debito_homens, debito_mulheres = debito_por_sexo(dados_dicionario)\n",
        "print(f'Débito - Homens: {debito_homens}, Mulheres: {debito_mulheres}')"
      ],
      "metadata": {
        "colab": {
          "base_uri": "https://localhost:8080/"
        },
        "id": "NyKE7Ccan_6S",
        "outputId": "0e930565-27d4-483a-91ac-4f7864a89c64"
      },
      "execution_count": 58,
      "outputs": [
        {
          "output_type": "stream",
          "name": "stdout",
          "text": [
            "Débito - Homens: 954, Mulheres: 731\n"
          ]
        }
      ]
    },
    {
      "cell_type": "markdown",
      "source": [
        "Qual o sobrenome que mais aparece na base de dados?"
      ],
      "metadata": {
        "id": "jOMpl3Th4Bkm"
      }
    },
    {
      "cell_type": "code",
      "source": [
        "def sobrenome_mais_comum(dados):\n",
        "    sobrenomes = {}\n",
        "    for info in dados.values():\n",
        "        sobrenome = info['sobrenome']\n",
        "        if sobrenome in sobrenomes:\n",
        "            sobrenomes[sobrenome] += 1\n",
        "        else:\n",
        "            sobrenomes[sobrenome] = 1\n",
        "\n",
        "    sobrenome_comum = max(sobrenomes, key=sobrenomes.get)\n",
        "    return sobrenome_comum, sobrenomes[sobrenome_comum]\n",
        "\n",
        "sobrenome_comum, freq = sobrenome_mais_comum(dados_dicionario)\n",
        "print(f'Sobrenome mais comum: {sobrenome_comum} (Aparece {freq} vezes)')\n"
      ],
      "metadata": {
        "id": "LDFe_62s4B_Q",
        "colab": {
          "base_uri": "https://localhost:8080/"
        },
        "outputId": "b295c59c-1142-420d-af97-ae478c016f1d"
      },
      "execution_count": 70,
      "outputs": [
        {
          "output_type": "stream",
          "name": "stdout",
          "text": [
            "Sobrenome mais comum: Alves (Aparece 768 vezes)\n"
          ]
        }
      ]
    },
    {
      "cell_type": "markdown",
      "source": [
        "Qual foi o ano em que os homens mais usaram o crédito?"
      ],
      "metadata": {
        "id": "Q7VS9K_Q4ECM"
      }
    },
    {
      "cell_type": "code",
      "source": [
        "def ano_homens_mais_credito(dados):\n",
        "    uso_credito = {}\n",
        "    for info in dados.values():\n",
        "        if info['sexo'] == 'M' and info['pagamento'] == 'credito':\n",
        "            ano = info['ano']\n",
        "            if ano in uso_credito:\n",
        "                uso_credito[ano] += 1\n",
        "            else:\n",
        "                uso_credito[ano] = 1\n",
        "\n",
        "    ano_mais_credito = max(uso_credito, key=uso_credito.get)\n",
        "    return ano_mais_credito, uso_credito[ano_mais_credito]\n",
        "\n",
        "ano_mais_credito, freq = ano_homens_mais_credito(dados_dicionario)\n",
        "print(f'Ano em que os homens mais usaram crédito: {ano_mais_credito} (Usado {freq} vezes)')\n"
      ],
      "metadata": {
        "id": "5H60b3n64Ee0",
        "colab": {
          "base_uri": "https://localhost:8080/"
        },
        "outputId": "60c8b4ff-f58d-4aa1-f448-5c8f13c9a8f6"
      },
      "execution_count": 71,
      "outputs": [
        {
          "output_type": "stream",
          "name": "stdout",
          "text": [
            "Ano em que os homens mais usaram crédito: 2018 (Usado 71 vezes)\n"
          ]
        }
      ]
    },
    {
      "cell_type": "markdown",
      "source": [
        "Qual opção de pagamento é mais utilizada em cada faixa etária?"
      ],
      "metadata": {
        "id": "ebnmp5KD4GPw"
      }
    },
    {
      "cell_type": "code",
      "source": [
        "def pagamento_por_faixa_etaria(dados):\n",
        "    pagamentos_faixas = {'Jovens': {}, 'Adultos': {}, 'Idosos': {}}\n",
        "\n",
        "    for info in dados.values():\n",
        "        idade = int(info['idade'])\n",
        "        pagamento = info['pagamento']\n",
        "        faixa = ''\n",
        "        if 18 <= idade <= 25:\n",
        "            faixa = 'Jovens'\n",
        "        elif 26 <= idade <= 59:\n",
        "            faixa = 'Adultos'\n",
        "        elif idade >= 60:\n",
        "            faixa = 'Idosos'\n",
        "\n",
        "        if faixa:\n",
        "            if pagamento in pagamentos_faixas[faixa]:\n",
        "                pagamentos_faixas[faixa][pagamento] += 1\n",
        "            else:\n",
        "                pagamentos_faixas[faixa][pagamento] = 1\n",
        "\n",
        "    pagamento_mais_utilizado = {faixa: max(pagamentos, key=pagamentos.get) for faixa, pagamentos in pagamentos_faixas.items()}\n",
        "    return pagamento_mais_utilizado\n",
        "\n",
        "pagamento_mais_utilizado = pagamento_por_faixa_etaria(dados_dicionario)\n",
        "print(pagamento_mais_utilizado)"
      ],
      "metadata": {
        "colab": {
          "base_uri": "https://localhost:8080/"
        },
        "id": "IcsBvK96rY_r",
        "outputId": "36782529-e257-4f69-a684-0f9850a1bb30"
      },
      "execution_count": 64,
      "outputs": [
        {
          "output_type": "stream",
          "name": "stdout",
          "text": [
            "{'Jovens': 'dinheiro', 'Adultos': 'debito', 'Idosos': 'debito'}\n"
          ]
        }
      ]
    },
    {
      "cell_type": "markdown",
      "source": [
        "Qual o valor gasto em compras por jovens do ano de 2010 até 2015?"
      ],
      "metadata": {
        "id": "jRKhI6Dv4IQJ"
      }
    },
    {
      "cell_type": "code",
      "source": [
        "def gasto_jovens_2010_2015(dados):\n",
        "    gasto_total = 0\n",
        "    for info in dados.values():\n",
        "        idade = int(info['idade'])\n",
        "        ano = int(info['ano'])\n",
        "        gasto = float(info['compra'])\n",
        "\n",
        "        if 18 <= idade <= 25 and 2010 <= ano <= 2015:\n",
        "            gasto_total += gasto\n",
        "\n",
        "    return gasto_total\n",
        "\n",
        "gasto_jovens = gasto_jovens_2010_2015(dados_dicionario)\n",
        "print(f'Total gasto por jovens de 2010 a 2015: {gasto_jovens}')"
      ],
      "metadata": {
        "colab": {
          "base_uri": "https://localhost:8080/"
        },
        "id": "XNNG-3fXsRDQ",
        "outputId": "24ca07f6-b00a-4972-d8be-61f102d18223"
      },
      "execution_count": 69,
      "outputs": [
        {
          "output_type": "stream",
          "name": "stdout",
          "text": [
            "Total gasto por jovens de 2010 a 2015: 1265539.0\n"
          ]
        }
      ]
    }
  ]
}